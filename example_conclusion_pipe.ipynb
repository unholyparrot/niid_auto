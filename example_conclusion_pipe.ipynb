{
 "cells": [
  {
   "cell_type": "code",
   "execution_count": 1,
   "id": "4959380c",
   "metadata": {},
   "outputs": [],
   "source": [
    "from carmon import conclusion_pipe\n",
    "from carmon import common as cmc"
   ]
  },
  {
   "cell_type": "markdown",
   "id": "2dee02bd",
   "metadata": {},
   "source": [
    "Считаем токен из файла"
   ]
  },
  {
   "cell_type": "code",
   "execution_count": 2,
   "id": "810edfa2",
   "metadata": {},
   "outputs": [],
   "source": [
    "with open(\"test_data/test_conclusion_pipe/token.txt\", \"r\") as token_file:\n",
    "    token = token_file.read()"
   ]
  },
  {
   "cell_type": "markdown",
   "id": "b4972f9c",
   "metadata": {},
   "source": [
    "Объявляем токен для дальнейших настроек"
   ]
  },
  {
   "cell_type": "code",
   "execution_count": 3,
   "id": "92cedd75",
   "metadata": {},
   "outputs": [],
   "source": [
    "stage_1 = conclusion_pipe.state_token(token)"
   ]
  },
  {
   "cell_type": "code",
   "execution_count": 4,
   "id": "788cc56a",
   "metadata": {},
   "outputs": [
    {
     "data": {
      "text/plain": [
       "True"
      ]
     },
     "execution_count": 4,
     "metadata": {},
     "output_type": "execute_result"
    }
   ],
   "source": [
    "stage_1['success']"
   ]
  },
  {
   "cell_type": "markdown",
   "id": "feb5b88b",
   "metadata": {},
   "source": [
    "И проверяем факт авторизации"
   ]
  },
  {
   "cell_type": "code",
   "execution_count": 5,
   "id": "f64ddea3",
   "metadata": {},
   "outputs": [
    {
     "data": {
      "text/plain": [
       "'НИИ Дезинфектологии Роспотребнадзора'"
      ]
     },
     "execution_count": 5,
     "metadata": {},
     "output_type": "execute_result"
    }
   ],
   "source": [
    "stage_1['payload']['depart_name']"
   ]
  },
  {
   "cell_type": "markdown",
   "id": "b24fe0b7",
   "metadata": {},
   "source": [
    "Запрашиваем доступные на портале заключения"
   ]
  },
  {
   "cell_type": "code",
   "execution_count": 6,
   "id": "28af27c4",
   "metadata": {},
   "outputs": [],
   "source": [
    "stage_2 = conclusion_pipe.request_possible_conclusions()"
   ]
  },
  {
   "cell_type": "code",
   "execution_count": 7,
   "id": "5871745a",
   "metadata": {},
   "outputs": [
    {
     "data": {
      "text/plain": [
       "True"
      ]
     },
     "execution_count": 7,
     "metadata": {},
     "output_type": "execute_result"
    }
   ],
   "source": [
    "stage_2['success']"
   ]
  },
  {
   "cell_type": "markdown",
   "id": "4bc9658f",
   "metadata": {},
   "source": [
    "В случае совпадения все ок, в случае несовпадения нужны дополнения словаря. Часть вещей сделана достаточно странно, т.к. на портале, например, `'Iota '` записана именно с пробелом, в противном случае все перестает работать..."
   ]
  },
  {
   "cell_type": "code",
   "execution_count": 8,
   "id": "ba78b46f",
   "metadata": {},
   "outputs": [
    {
     "data": {
      "text/plain": [
       "{'Alpha': 461014,\n",
       " 'AT.1': 497466,\n",
       " 'B.1.1.523': 461012,\n",
       " 'Beta': 461015,\n",
       " 'Delta': 461011,\n",
       " 'Eta ': 9,\n",
       " 'Gamma': 7,\n",
       " 'Iota ': 10,\n",
       " 'Kappa': 6,\n",
       " 'Lambda': 12,\n",
       " 'Omicron': 24,\n",
       " 'Omicron (BA.1)': 38,\n",
       " 'Omicron (BA.2)': 43,\n",
       " 'Иной': 4,\n",
       " 'недостаточное покрытие': 460927}"
      ]
     },
     "execution_count": 8,
     "metadata": {},
     "output_type": "execute_result"
    }
   ],
   "source": [
    "stage_2['payload']"
   ]
  },
  {
   "cell_type": "markdown",
   "id": "c4395f73",
   "metadata": {},
   "source": [
    "Считываем таблицу с образцами. Таблица в данном случае представленна с некоторой модификацией, т.е. нельзя сразу подать таблицу, которая получается из `registry_pipe`, так как пока что необходимы дальнейшие модификации. \n",
    "\n",
    "Однако общий вид, к которому должна быть сведена таблица, представлен здесь. \n",
    "\n",
    "Помимо таблицы с образцами считываются также результаты Pangolin и NextClade. "
   ]
  },
  {
   "cell_type": "code",
   "execution_count": 9,
   "id": "06b5094a",
   "metadata": {},
   "outputs": [],
   "source": [
    "stage_3 = conclusion_pipe.read_and_prepare_data(\"test_data/test_conclusion_pipe/GOOD_TABLE.csv\", \n",
    "                                                \"test_data/test_conclusion_pipe/lineage_report.csv\", \n",
    "                                                \"test_data/test_conclusion_pipe/nextclade.json\",\n",
    "                                                table_separator=\",\")"
   ]
  },
  {
   "cell_type": "code",
   "execution_count": 10,
   "id": "c3b4e36f",
   "metadata": {},
   "outputs": [
    {
     "data": {
      "text/plain": [
       "True"
      ]
     },
     "execution_count": 10,
     "metadata": {},
     "output_type": "execute_result"
    }
   ],
   "source": [
    "stage_3['success']"
   ]
  },
  {
   "cell_type": "code",
   "execution_count": 11,
   "id": "0d2f6c33",
   "metadata": {},
   "outputs": [
    {
     "data": {
      "text/html": [
       "<div>\n",
       "<style scoped>\n",
       "    .dataframe tbody tr th:only-of-type {\n",
       "        vertical-align: middle;\n",
       "    }\n",
       "\n",
       "    .dataframe tbody tr th {\n",
       "        vertical-align: top;\n",
       "    }\n",
       "\n",
       "    .dataframe thead th {\n",
       "        text-align: right;\n",
       "    }\n",
       "</style>\n",
       "<table border=\"1\" class=\"dataframe\">\n",
       "  <thead>\n",
       "    <tr style=\"text-align: right;\">\n",
       "      <th></th>\n",
       "      <th>litex_sk</th>\n",
       "      <th>litex_value</th>\n",
       "      <th>region</th>\n",
       "      <th>region_code</th>\n",
       "      <th>registry_id</th>\n",
       "      <th>depart_name</th>\n",
       "      <th>sample_number</th>\n",
       "      <th>value</th>\n",
       "      <th>barcode</th>\n",
       "      <th>pango</th>\n",
       "      <th>nextclade</th>\n",
       "      <th>result</th>\n",
       "      <th>true_id</th>\n",
       "      <th>status</th>\n",
       "    </tr>\n",
       "  </thead>\n",
       "  <tbody>\n",
       "    <tr>\n",
       "      <th>0</th>\n",
       "      <td>104839</td>\n",
       "      <td>1645</td>\n",
       "      <td>Белгородская область</td>\n",
       "      <td>belg</td>\n",
       "      <td>4875</td>\n",
       "      <td>ФБУЗ ЦГиЭ по Белгородской области</td>\n",
       "      <td>belg140SM92234</td>\n",
       "      <td>1645</td>\n",
       "      <td>barcode01_MN908947.3</td>\n",
       "      <td>BA.1</td>\n",
       "      <td>21K (Omicron)</td>\n",
       "      <td></td>\n",
       "      <td></td>\n",
       "      <td></td>\n",
       "    </tr>\n",
       "    <tr>\n",
       "      <th>1</th>\n",
       "      <td>104840</td>\n",
       "      <td>1479</td>\n",
       "      <td>Белгородская область</td>\n",
       "      <td>belg</td>\n",
       "      <td>4798</td>\n",
       "      <td>ФБУЗ ЦГиЭ по Белгородской области</td>\n",
       "      <td>belg140SM89790</td>\n",
       "      <td>1479</td>\n",
       "      <td>barcode02_MN908947.3</td>\n",
       "      <td>BA.1.1</td>\n",
       "      <td>21K (Omicron)</td>\n",
       "      <td></td>\n",
       "      <td></td>\n",
       "      <td></td>\n",
       "    </tr>\n",
       "    <tr>\n",
       "      <th>2</th>\n",
       "      <td>104841</td>\n",
       "      <td>1660</td>\n",
       "      <td>Белгородская область</td>\n",
       "      <td>belg</td>\n",
       "      <td>4875</td>\n",
       "      <td>ФБУЗ ЦГиЭ по Белгородской области</td>\n",
       "      <td>belg140SM92394</td>\n",
       "      <td>1660</td>\n",
       "      <td>barcode03_MN908947.3</td>\n",
       "      <td>BA.1.1</td>\n",
       "      <td>21K (Omicron)</td>\n",
       "      <td></td>\n",
       "      <td></td>\n",
       "      <td></td>\n",
       "    </tr>\n",
       "  </tbody>\n",
       "</table>\n",
       "</div>"
      ],
      "text/plain": [
       "   litex_sk  litex_value                region region_code  registry_id  \\\n",
       "0    104839         1645  Белгородская область        belg         4875   \n",
       "1    104840         1479  Белгородская область        belg         4798   \n",
       "2    104841         1660  Белгородская область        belg         4875   \n",
       "\n",
       "                         depart_name   sample_number  value  \\\n",
       "0  ФБУЗ ЦГиЭ по Белгородской области  belg140SM92234   1645   \n",
       "1  ФБУЗ ЦГиЭ по Белгородской области  belg140SM89790   1479   \n",
       "2  ФБУЗ ЦГиЭ по Белгородской области  belg140SM92394   1660   \n",
       "\n",
       "                barcode   pango      nextclade result true_id status  \n",
       "0  barcode01_MN908947.3    BA.1  21K (Omicron)                        \n",
       "1  barcode02_MN908947.3  BA.1.1  21K (Omicron)                        \n",
       "2  barcode03_MN908947.3  BA.1.1  21K (Omicron)                        "
      ]
     },
     "execution_count": 11,
     "metadata": {},
     "output_type": "execute_result"
    }
   ],
   "source": [
    "stage_3['payload'].head(3)"
   ]
  },
  {
   "cell_type": "markdown",
   "id": "bd095306",
   "metadata": {},
   "source": [
    "После чтения и парсинга всех данных доступны три столбца для заполнения, с ними предстоит разобраться. \n",
    "\n",
    "Сперва результаты выставляются локально как комбинация результатов из _pango_ и _nextclade_, после чего, используя локальный словарь, создается результат, соответствующий доступному результату на портале. В случае, если такой результат достичь не удается, выставляется `'NS'`, что в дальнейшем обеспечивает невыставление заключения на портале. "
   ]
  },
  {
   "cell_type": "code",
   "execution_count": 12,
   "id": "357debb1",
   "metadata": {},
   "outputs": [],
   "source": [
    "stage_4 = conclusion_pipe.state_conclusion_local(stage_3['payload'])"
   ]
  },
  {
   "cell_type": "code",
   "execution_count": 13,
   "id": "b1ed7fce",
   "metadata": {},
   "outputs": [
    {
     "data": {
      "text/plain": [
       "True"
      ]
     },
     "execution_count": 13,
     "metadata": {},
     "output_type": "execute_result"
    }
   ],
   "source": [
    "stage_4['success']"
   ]
  },
  {
   "cell_type": "code",
   "execution_count": 14,
   "id": "4b84f8b9",
   "metadata": {},
   "outputs": [
    {
     "data": {
      "text/html": [
       "<div>\n",
       "<style scoped>\n",
       "    .dataframe tbody tr th:only-of-type {\n",
       "        vertical-align: middle;\n",
       "    }\n",
       "\n",
       "    .dataframe tbody tr th {\n",
       "        vertical-align: top;\n",
       "    }\n",
       "\n",
       "    .dataframe thead th {\n",
       "        text-align: right;\n",
       "    }\n",
       "</style>\n",
       "<table border=\"1\" class=\"dataframe\">\n",
       "  <thead>\n",
       "    <tr style=\"text-align: right;\">\n",
       "      <th></th>\n",
       "      <th>litex_sk</th>\n",
       "      <th>litex_value</th>\n",
       "      <th>region</th>\n",
       "      <th>region_code</th>\n",
       "      <th>registry_id</th>\n",
       "      <th>depart_name</th>\n",
       "      <th>sample_number</th>\n",
       "      <th>value</th>\n",
       "      <th>barcode</th>\n",
       "      <th>pango</th>\n",
       "      <th>nextclade</th>\n",
       "      <th>result</th>\n",
       "      <th>true_id</th>\n",
       "      <th>status</th>\n",
       "    </tr>\n",
       "  </thead>\n",
       "  <tbody>\n",
       "    <tr>\n",
       "      <th>0</th>\n",
       "      <td>104839</td>\n",
       "      <td>1645</td>\n",
       "      <td>Белгородская область</td>\n",
       "      <td>belg</td>\n",
       "      <td>4875</td>\n",
       "      <td>ФБУЗ ЦГиЭ по Белгородской области</td>\n",
       "      <td>belg140SM92234</td>\n",
       "      <td>1645</td>\n",
       "      <td>barcode01_MN908947.3</td>\n",
       "      <td>BA.1</td>\n",
       "      <td>21K (Omicron)</td>\n",
       "      <td>Omicron (BA.1)</td>\n",
       "      <td></td>\n",
       "      <td></td>\n",
       "    </tr>\n",
       "    <tr>\n",
       "      <th>1</th>\n",
       "      <td>104840</td>\n",
       "      <td>1479</td>\n",
       "      <td>Белгородская область</td>\n",
       "      <td>belg</td>\n",
       "      <td>4798</td>\n",
       "      <td>ФБУЗ ЦГиЭ по Белгородской области</td>\n",
       "      <td>belg140SM89790</td>\n",
       "      <td>1479</td>\n",
       "      <td>barcode02_MN908947.3</td>\n",
       "      <td>BA.1.1</td>\n",
       "      <td>21K (Omicron)</td>\n",
       "      <td>Omicron (BA.1)</td>\n",
       "      <td></td>\n",
       "      <td></td>\n",
       "    </tr>\n",
       "    <tr>\n",
       "      <th>2</th>\n",
       "      <td>104841</td>\n",
       "      <td>1660</td>\n",
       "      <td>Белгородская область</td>\n",
       "      <td>belg</td>\n",
       "      <td>4875</td>\n",
       "      <td>ФБУЗ ЦГиЭ по Белгородской области</td>\n",
       "      <td>belg140SM92394</td>\n",
       "      <td>1660</td>\n",
       "      <td>barcode03_MN908947.3</td>\n",
       "      <td>BA.1.1</td>\n",
       "      <td>21K (Omicron)</td>\n",
       "      <td>Omicron (BA.1)</td>\n",
       "      <td></td>\n",
       "      <td></td>\n",
       "    </tr>\n",
       "  </tbody>\n",
       "</table>\n",
       "</div>"
      ],
      "text/plain": [
       "   litex_sk  litex_value                region region_code  registry_id  \\\n",
       "0    104839         1645  Белгородская область        belg         4875   \n",
       "1    104840         1479  Белгородская область        belg         4798   \n",
       "2    104841         1660  Белгородская область        belg         4875   \n",
       "\n",
       "                         depart_name   sample_number  value  \\\n",
       "0  ФБУЗ ЦГиЭ по Белгородской области  belg140SM92234   1645   \n",
       "1  ФБУЗ ЦГиЭ по Белгородской области  belg140SM89790   1479   \n",
       "2  ФБУЗ ЦГиЭ по Белгородской области  belg140SM92394   1660   \n",
       "\n",
       "                barcode   pango      nextclade          result true_id status  \n",
       "0  barcode01_MN908947.3    BA.1  21K (Omicron)  Omicron (BA.1)                 \n",
       "1  barcode02_MN908947.3  BA.1.1  21K (Omicron)  Omicron (BA.1)                 \n",
       "2  barcode03_MN908947.3  BA.1.1  21K (Omicron)  Omicron (BA.1)                 "
      ]
     },
     "execution_count": 14,
     "metadata": {},
     "output_type": "execute_result"
    }
   ],
   "source": [
    "stage_4['payload'].head(3)"
   ]
  },
  {
   "cell_type": "markdown",
   "id": "258c0a9d",
   "metadata": {},
   "source": [
    "После локального выставления результата необходимо запросить истинные _id_ образцов с портала, чтобы в дальнейшем по ним выставить _id_ заключения. \n",
    "\n",
    "Предполагается, что все запросы к порталу пройдут успешно и все _id_ будут найдены, в противном случае функция не срабоатет целиком..."
   ]
  },
  {
   "cell_type": "code",
   "execution_count": 15,
   "id": "209d4a42",
   "metadata": {},
   "outputs": [],
   "source": [
    "stage_5 = conclusion_pipe.request_samples_info(stage_4['payload'])"
   ]
  },
  {
   "cell_type": "code",
   "execution_count": 16,
   "id": "454b7eb7",
   "metadata": {},
   "outputs": [
    {
     "data": {
      "text/plain": [
       "True"
      ]
     },
     "execution_count": 16,
     "metadata": {},
     "output_type": "execute_result"
    }
   ],
   "source": [
    "stage_5['success']"
   ]
  },
  {
   "cell_type": "code",
   "execution_count": 17,
   "id": "f95bd04d",
   "metadata": {},
   "outputs": [
    {
     "data": {
      "text/html": [
       "<div>\n",
       "<style scoped>\n",
       "    .dataframe tbody tr th:only-of-type {\n",
       "        vertical-align: middle;\n",
       "    }\n",
       "\n",
       "    .dataframe tbody tr th {\n",
       "        vertical-align: top;\n",
       "    }\n",
       "\n",
       "    .dataframe thead th {\n",
       "        text-align: right;\n",
       "    }\n",
       "</style>\n",
       "<table border=\"1\" class=\"dataframe\">\n",
       "  <thead>\n",
       "    <tr style=\"text-align: right;\">\n",
       "      <th></th>\n",
       "      <th>litex_sk</th>\n",
       "      <th>litex_value</th>\n",
       "      <th>region</th>\n",
       "      <th>region_code</th>\n",
       "      <th>registry_id</th>\n",
       "      <th>depart_name</th>\n",
       "      <th>sample_number</th>\n",
       "      <th>value</th>\n",
       "      <th>barcode</th>\n",
       "      <th>pango</th>\n",
       "      <th>nextclade</th>\n",
       "      <th>result</th>\n",
       "      <th>true_id</th>\n",
       "      <th>status</th>\n",
       "    </tr>\n",
       "  </thead>\n",
       "  <tbody>\n",
       "    <tr>\n",
       "      <th>0</th>\n",
       "      <td>104839</td>\n",
       "      <td>1645</td>\n",
       "      <td>Белгородская область</td>\n",
       "      <td>belg</td>\n",
       "      <td>4875</td>\n",
       "      <td>ФБУЗ ЦГиЭ по Белгородской области</td>\n",
       "      <td>belg140SM92234</td>\n",
       "      <td>1645</td>\n",
       "      <td>barcode01_MN908947.3</td>\n",
       "      <td>BA.1</td>\n",
       "      <td>21K (Omicron)</td>\n",
       "      <td>Omicron (BA.1)</td>\n",
       "      <td>175152</td>\n",
       "      <td></td>\n",
       "    </tr>\n",
       "    <tr>\n",
       "      <th>1</th>\n",
       "      <td>104840</td>\n",
       "      <td>1479</td>\n",
       "      <td>Белгородская область</td>\n",
       "      <td>belg</td>\n",
       "      <td>4798</td>\n",
       "      <td>ФБУЗ ЦГиЭ по Белгородской области</td>\n",
       "      <td>belg140SM89790</td>\n",
       "      <td>1479</td>\n",
       "      <td>barcode02_MN908947.3</td>\n",
       "      <td>BA.1.1</td>\n",
       "      <td>21K (Omicron)</td>\n",
       "      <td>Omicron (BA.1)</td>\n",
       "      <td>172708</td>\n",
       "      <td></td>\n",
       "    </tr>\n",
       "    <tr>\n",
       "      <th>2</th>\n",
       "      <td>104841</td>\n",
       "      <td>1660</td>\n",
       "      <td>Белгородская область</td>\n",
       "      <td>belg</td>\n",
       "      <td>4875</td>\n",
       "      <td>ФБУЗ ЦГиЭ по Белгородской области</td>\n",
       "      <td>belg140SM92394</td>\n",
       "      <td>1660</td>\n",
       "      <td>barcode03_MN908947.3</td>\n",
       "      <td>BA.1.1</td>\n",
       "      <td>21K (Omicron)</td>\n",
       "      <td>Omicron (BA.1)</td>\n",
       "      <td>175312</td>\n",
       "      <td></td>\n",
       "    </tr>\n",
       "  </tbody>\n",
       "</table>\n",
       "</div>"
      ],
      "text/plain": [
       "   litex_sk  litex_value                region region_code  registry_id  \\\n",
       "0    104839         1645  Белгородская область        belg         4875   \n",
       "1    104840         1479  Белгородская область        belg         4798   \n",
       "2    104841         1660  Белгородская область        belg         4875   \n",
       "\n",
       "                         depart_name   sample_number  value  \\\n",
       "0  ФБУЗ ЦГиЭ по Белгородской области  belg140SM92234   1645   \n",
       "1  ФБУЗ ЦГиЭ по Белгородской области  belg140SM89790   1479   \n",
       "2  ФБУЗ ЦГиЭ по Белгородской области  belg140SM92394   1660   \n",
       "\n",
       "                barcode   pango      nextclade          result true_id status  \n",
       "0  barcode01_MN908947.3    BA.1  21K (Omicron)  Omicron (BA.1)  175152         \n",
       "1  barcode02_MN908947.3  BA.1.1  21K (Omicron)  Omicron (BA.1)  172708         \n",
       "2  barcode03_MN908947.3  BA.1.1  21K (Omicron)  Omicron (BA.1)  175312         "
      ]
     },
     "execution_count": 17,
     "metadata": {},
     "output_type": "execute_result"
    }
   ],
   "source": [
    "stage_5['payload'].head(3)"
   ]
  },
  {
   "cell_type": "markdown",
   "id": "bf3a2045",
   "metadata": {},
   "source": [
    "Используя выставленные _id_, проставим заключения тем образцам, у кого однозначно определено локальное заключение. \n",
    "\n",
    "В случае, если запрос прошёл успешно, локально выставляется `'OK'` в поле статуса. В дальнейшем это будет изменено на другое поле, так как можно будет реализовать проверку успеха выставления. "
   ]
  },
  {
   "cell_type": "code",
   "execution_count": 18,
   "id": "8b052290",
   "metadata": {},
   "outputs": [],
   "source": [
    "stage_6 = conclusion_pipe.state_conclusion_remote(stage_5['payload'])"
   ]
  },
  {
   "cell_type": "code",
   "execution_count": 19,
   "id": "087ad6d0",
   "metadata": {},
   "outputs": [
    {
     "data": {
      "text/plain": [
       "True"
      ]
     },
     "execution_count": 19,
     "metadata": {},
     "output_type": "execute_result"
    }
   ],
   "source": [
    "stage_6['success']"
   ]
  },
  {
   "cell_type": "markdown",
   "id": "7c9adaa7",
   "metadata": {},
   "source": [
    "Тут видно, что части образцов было выставлено значение `'OK'` в поле статуса, т.е. выставление заключения прошло успешно. "
   ]
  },
  {
   "cell_type": "code",
   "execution_count": 20,
   "id": "503124d7",
   "metadata": {},
   "outputs": [
    {
     "data": {
      "text/html": [
       "<div>\n",
       "<style scoped>\n",
       "    .dataframe tbody tr th:only-of-type {\n",
       "        vertical-align: middle;\n",
       "    }\n",
       "\n",
       "    .dataframe tbody tr th {\n",
       "        vertical-align: top;\n",
       "    }\n",
       "\n",
       "    .dataframe thead th {\n",
       "        text-align: right;\n",
       "    }\n",
       "</style>\n",
       "<table border=\"1\" class=\"dataframe\">\n",
       "  <thead>\n",
       "    <tr style=\"text-align: right;\">\n",
       "      <th></th>\n",
       "      <th>litex_sk</th>\n",
       "      <th>litex_value</th>\n",
       "      <th>region</th>\n",
       "      <th>region_code</th>\n",
       "      <th>registry_id</th>\n",
       "      <th>depart_name</th>\n",
       "      <th>sample_number</th>\n",
       "      <th>value</th>\n",
       "      <th>barcode</th>\n",
       "      <th>pango</th>\n",
       "      <th>nextclade</th>\n",
       "      <th>result</th>\n",
       "      <th>true_id</th>\n",
       "      <th>status</th>\n",
       "    </tr>\n",
       "  </thead>\n",
       "  <tbody>\n",
       "    <tr>\n",
       "      <th>0</th>\n",
       "      <td>104839</td>\n",
       "      <td>1645</td>\n",
       "      <td>Белгородская область</td>\n",
       "      <td>belg</td>\n",
       "      <td>4875</td>\n",
       "      <td>ФБУЗ ЦГиЭ по Белгородской области</td>\n",
       "      <td>belg140SM92234</td>\n",
       "      <td>1645</td>\n",
       "      <td>barcode01_MN908947.3</td>\n",
       "      <td>BA.1</td>\n",
       "      <td>21K (Omicron)</td>\n",
       "      <td>Omicron (BA.1)</td>\n",
       "      <td>175152</td>\n",
       "      <td>OK</td>\n",
       "    </tr>\n",
       "    <tr>\n",
       "      <th>1</th>\n",
       "      <td>104840</td>\n",
       "      <td>1479</td>\n",
       "      <td>Белгородская область</td>\n",
       "      <td>belg</td>\n",
       "      <td>4798</td>\n",
       "      <td>ФБУЗ ЦГиЭ по Белгородской области</td>\n",
       "      <td>belg140SM89790</td>\n",
       "      <td>1479</td>\n",
       "      <td>barcode02_MN908947.3</td>\n",
       "      <td>BA.1.1</td>\n",
       "      <td>21K (Omicron)</td>\n",
       "      <td>Omicron (BA.1)</td>\n",
       "      <td>172708</td>\n",
       "      <td>OK</td>\n",
       "    </tr>\n",
       "    <tr>\n",
       "      <th>2</th>\n",
       "      <td>104841</td>\n",
       "      <td>1660</td>\n",
       "      <td>Белгородская область</td>\n",
       "      <td>belg</td>\n",
       "      <td>4875</td>\n",
       "      <td>ФБУЗ ЦГиЭ по Белгородской области</td>\n",
       "      <td>belg140SM92394</td>\n",
       "      <td>1660</td>\n",
       "      <td>barcode03_MN908947.3</td>\n",
       "      <td>BA.1.1</td>\n",
       "      <td>21K (Omicron)</td>\n",
       "      <td>Omicron (BA.1)</td>\n",
       "      <td>175312</td>\n",
       "      <td>OK</td>\n",
       "    </tr>\n",
       "  </tbody>\n",
       "</table>\n",
       "</div>"
      ],
      "text/plain": [
       "   litex_sk  litex_value                region region_code  registry_id  \\\n",
       "0    104839         1645  Белгородская область        belg         4875   \n",
       "1    104840         1479  Белгородская область        belg         4798   \n",
       "2    104841         1660  Белгородская область        belg         4875   \n",
       "\n",
       "                         depart_name   sample_number  value  \\\n",
       "0  ФБУЗ ЦГиЭ по Белгородской области  belg140SM92234   1645   \n",
       "1  ФБУЗ ЦГиЭ по Белгородской области  belg140SM89790   1479   \n",
       "2  ФБУЗ ЦГиЭ по Белгородской области  belg140SM92394   1660   \n",
       "\n",
       "                barcode   pango      nextclade          result true_id status  \n",
       "0  barcode01_MN908947.3    BA.1  21K (Omicron)  Omicron (BA.1)  175152     OK  \n",
       "1  barcode02_MN908947.3  BA.1.1  21K (Omicron)  Omicron (BA.1)  172708     OK  \n",
       "2  barcode03_MN908947.3  BA.1.1  21K (Omicron)  Omicron (BA.1)  175312     OK  "
      ]
     },
     "execution_count": 20,
     "metadata": {},
     "output_type": "execute_result"
    }
   ],
   "source": [
    "stage_6['payload'].head(3)"
   ]
  },
  {
   "cell_type": "markdown",
   "id": "ce04678e",
   "metadata": {},
   "source": [
    "А для образцов с невыясненным заключением проставлено соответствующее замечание в поле статуса. "
   ]
  },
  {
   "cell_type": "code",
   "execution_count": 21,
   "id": "35972893",
   "metadata": {},
   "outputs": [
    {
     "data": {
      "text/html": [
       "<div>\n",
       "<style scoped>\n",
       "    .dataframe tbody tr th:only-of-type {\n",
       "        vertical-align: middle;\n",
       "    }\n",
       "\n",
       "    .dataframe tbody tr th {\n",
       "        vertical-align: top;\n",
       "    }\n",
       "\n",
       "    .dataframe thead th {\n",
       "        text-align: right;\n",
       "    }\n",
       "</style>\n",
       "<table border=\"1\" class=\"dataframe\">\n",
       "  <thead>\n",
       "    <tr style=\"text-align: right;\">\n",
       "      <th></th>\n",
       "      <th>litex_sk</th>\n",
       "      <th>litex_value</th>\n",
       "      <th>region</th>\n",
       "      <th>region_code</th>\n",
       "      <th>registry_id</th>\n",
       "      <th>depart_name</th>\n",
       "      <th>sample_number</th>\n",
       "      <th>value</th>\n",
       "      <th>barcode</th>\n",
       "      <th>pango</th>\n",
       "      <th>nextclade</th>\n",
       "      <th>result</th>\n",
       "      <th>true_id</th>\n",
       "      <th>status</th>\n",
       "    </tr>\n",
       "  </thead>\n",
       "  <tbody>\n",
       "    <tr>\n",
       "      <th>65</th>\n",
       "      <td>104907</td>\n",
       "      <td>3308</td>\n",
       "      <td>Свердловская область</td>\n",
       "      <td>sver</td>\n",
       "      <td>4477</td>\n",
       "      <td>ФБУЗ ЦГиЭ в Свердловской области</td>\n",
       "      <td>sver131SM72278</td>\n",
       "      <td>3308</td>\n",
       "      <td>barcode66_MN908947.3</td>\n",
       "      <td>None</td>\n",
       "      <td>20A</td>\n",
       "      <td>NS</td>\n",
       "      <td>155100</td>\n",
       "      <td>Unknown conclusion</td>\n",
       "    </tr>\n",
       "  </tbody>\n",
       "</table>\n",
       "</div>"
      ],
      "text/plain": [
       "    litex_sk  litex_value                region region_code  registry_id  \\\n",
       "65    104907         3308  Свердловская область        sver         4477   \n",
       "\n",
       "                         depart_name   sample_number  value  \\\n",
       "65  ФБУЗ ЦГиЭ в Свердловской области  sver131SM72278   3308   \n",
       "\n",
       "                 barcode pango nextclade result true_id              status  \n",
       "65  barcode66_MN908947.3  None       20A     NS  155100  Unknown conclusion  "
      ]
     },
     "execution_count": 21,
     "metadata": {},
     "output_type": "execute_result"
    }
   ],
   "source": [
    "df = stage_6['payload']\n",
    "df[df['status'] != \"OK\"]"
   ]
  },
  {
   "cell_type": "code",
   "execution_count": null,
   "id": "a9886bab",
   "metadata": {},
   "outputs": [],
   "source": []
  }
 ],
 "metadata": {
  "kernelspec": {
   "display_name": "Python 3",
   "language": "python",
   "name": "python3"
  },
  "language_info": {
   "codemirror_mode": {
    "name": "ipython",
    "version": 3
   },
   "file_extension": ".py",
   "mimetype": "text/x-python",
   "name": "python",
   "nbconvert_exporter": "python",
   "pygments_lexer": "ipython3",
   "version": "3.8.8"
  }
 },
 "nbformat": 4,
 "nbformat_minor": 5
}
