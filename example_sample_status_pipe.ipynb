{
 "cells": [
  {
   "cell_type": "code",
   "execution_count": 1,
   "id": "3354e708",
   "metadata": {},
   "outputs": [],
   "source": [
    "import json\n",
    "\n",
    "from carmon import sample_status_pipe\n",
    "from carmon import common as cmc"
   ]
  },
  {
   "cell_type": "markdown",
   "id": "2dee02bd",
   "metadata": {},
   "source": [
    "Считаем токен из файла"
   ]
  },
  {
   "cell_type": "code",
   "execution_count": 2,
   "id": "810edfa2",
   "metadata": {},
   "outputs": [],
   "source": [
    "with open(\"test_data/token.txt\", \"r\") as token_file:\n",
    "    token = token_file.read()"
   ]
  },
  {
   "cell_type": "markdown",
   "id": "b4972f9c",
   "metadata": {},
   "source": [
    "Объявляем токен для дальнейших настроек"
   ]
  },
  {
   "cell_type": "code",
   "execution_count": 3,
   "id": "92cedd75",
   "metadata": {},
   "outputs": [],
   "source": [
    "stage_1 = cmc.state_token(token)"
   ]
  },
  {
   "cell_type": "code",
   "execution_count": 4,
   "id": "788cc56a",
   "metadata": {},
   "outputs": [
    {
     "data": {
      "text/plain": [
       "True"
      ]
     },
     "execution_count": 4,
     "metadata": {},
     "output_type": "execute_result"
    }
   ],
   "source": [
    "stage_1['success']"
   ]
  },
  {
   "cell_type": "markdown",
   "id": "feb5b88b",
   "metadata": {},
   "source": [
    "И проверяем факт авторизации"
   ]
  },
  {
   "cell_type": "code",
   "execution_count": 5,
   "id": "f64ddea3",
   "metadata": {},
   "outputs": [
    {
     "data": {
      "text/plain": [
       "'НИИ Дезинфектологии Роспотребнадзора'"
      ]
     },
     "execution_count": 5,
     "metadata": {},
     "output_type": "execute_result"
    }
   ],
   "source": [
    "stage_1['payload']['depart_name']"
   ]
  },
  {
   "cell_type": "markdown",
   "id": "db652fbb",
   "metadata": {},
   "source": [
    "Запрашиваем список возможных статусов, сравниваем его с тем, что записано в конфигураторе. "
   ]
  },
  {
   "cell_type": "code",
   "execution_count": 6,
   "id": "83031401",
   "metadata": {},
   "outputs": [],
   "source": [
    "stage_2 = sample_status_pipe.request_sample_status_types()"
   ]
  },
  {
   "cell_type": "code",
   "execution_count": 7,
   "id": "0eb40fdc",
   "metadata": {},
   "outputs": [
    {
     "data": {
      "text/plain": [
       "True"
      ]
     },
     "execution_count": 7,
     "metadata": {},
     "output_type": "execute_result"
    }
   ],
   "source": [
    "stage_2['success']"
   ]
  },
  {
   "cell_type": "code",
   "execution_count": 8,
   "id": "b3da0936",
   "metadata": {},
   "outputs": [
    {
     "data": {
      "text/plain": [
       "{'Новый': 1,\n",
       " 'Отправлен': 2,\n",
       " 'Доставлен': 3,\n",
       " 'Брак': 4,\n",
       " 'В работе': 5,\n",
       " 'Предварительный результат': 6,\n",
       " 'Секвенирован': 7,\n",
       " 'Готов': 8,\n",
       " 'Принят на секвенирование': 9,\n",
       " 'Брак сиквенса': 10,\n",
       " 'Генотипирование по ПЦР': 11}"
      ]
     },
     "execution_count": 8,
     "metadata": {},
     "output_type": "execute_result"
    }
   ],
   "source": [
    "stage_2['payload']"
   ]
  },
  {
   "cell_type": "markdown",
   "id": "0c1c2960",
   "metadata": {},
   "source": [
    "Тут забавный момент, но если:\n",
    "* полученный список совпадает с записанным локально, вернется True и дублирование списка;\n",
    "* полученный список не совпадает с записанным локально, вернется False и список, который следует записать в локальный конфиг.\n",
    "\n",
    "Считаем ранее подготовленный __df__ с тестовыми образцами. Он выглядит так, как ему следует выглядеть после этапа 1. "
   ]
  },
  {
   "cell_type": "code",
   "execution_count": 9,
   "id": "ad4c9203",
   "metadata": {},
   "outputs": [],
   "source": [
    "read_stage = cmc.read_df('test_data/test_sample_status_pipe/from_stage_1.csv')"
   ]
  },
  {
   "cell_type": "code",
   "execution_count": 10,
   "id": "59b733e3",
   "metadata": {},
   "outputs": [
    {
     "data": {
      "text/plain": [
       "True"
      ]
     },
     "execution_count": 10,
     "metadata": {},
     "output_type": "execute_result"
    }
   ],
   "source": [
    "read_stage['success']"
   ]
  },
  {
   "cell_type": "code",
   "execution_count": 11,
   "id": "ec7034c8",
   "metadata": {},
   "outputs": [
    {
     "data": {
      "text/html": [
       "<div>\n",
       "<style scoped>\n",
       "    .dataframe tbody tr th:only-of-type {\n",
       "        vertical-align: middle;\n",
       "    }\n",
       "\n",
       "    .dataframe tbody tr th {\n",
       "        vertical-align: top;\n",
       "    }\n",
       "\n",
       "    .dataframe thead th {\n",
       "        text-align: right;\n",
       "    }\n",
       "</style>\n",
       "<table border=\"1\" class=\"dataframe\">\n",
       "  <thead>\n",
       "    <tr style=\"text-align: right;\">\n",
       "      <th></th>\n",
       "      <th>litech_barcode</th>\n",
       "      <th>litech_sample_name</th>\n",
       "      <th>litech_region</th>\n",
       "      <th>region_short_name</th>\n",
       "      <th>registry_id</th>\n",
       "      <th>depart_name</th>\n",
       "      <th>sample_number</th>\n",
       "      <th>sample_name_value</th>\n",
       "      <th>registry_guess_status</th>\n",
       "      <th>valid_seq</th>\n",
       "      <th>sample_status_local</th>\n",
       "      <th>sample_vga_id</th>\n",
       "      <th>sample_status_remote</th>\n",
       "      <th>pango</th>\n",
       "      <th>nextclade</th>\n",
       "      <th>sequence_conclusion_local</th>\n",
       "      <th>sequence_vga_id</th>\n",
       "      <th>sequence_conclusion_remote</th>\n",
       "    </tr>\n",
       "    <tr>\n",
       "      <th>barcode</th>\n",
       "      <th></th>\n",
       "      <th></th>\n",
       "      <th></th>\n",
       "      <th></th>\n",
       "      <th></th>\n",
       "      <th></th>\n",
       "      <th></th>\n",
       "      <th></th>\n",
       "      <th></th>\n",
       "      <th></th>\n",
       "      <th></th>\n",
       "      <th></th>\n",
       "      <th></th>\n",
       "      <th></th>\n",
       "      <th></th>\n",
       "      <th></th>\n",
       "      <th></th>\n",
       "      <th></th>\n",
       "    </tr>\n",
       "  </thead>\n",
       "  <tbody>\n",
       "    <tr>\n",
       "      <th>barcode01_MN908947.3</th>\n",
       "      <td>2203281</td>\n",
       "      <td>test1</td>\n",
       "      <td>Еврейская автономная область</td>\n",
       "      <td>niid</td>\n",
       "      <td></td>\n",
       "      <td></td>\n",
       "      <td></td>\n",
       "      <td></td>\n",
       "      <td>NAME AND REGION DUPLICATES</td>\n",
       "      <td></td>\n",
       "      <td></td>\n",
       "      <td></td>\n",
       "      <td></td>\n",
       "      <td></td>\n",
       "      <td></td>\n",
       "      <td></td>\n",
       "      <td></td>\n",
       "      <td></td>\n",
       "    </tr>\n",
       "    <tr>\n",
       "      <th>barcode02_MN908947.3</th>\n",
       "      <td>2203282</td>\n",
       "      <td>test2</td>\n",
       "      <td>Еврейская автономная область</td>\n",
       "      <td>niid</td>\n",
       "      <td>6441</td>\n",
       "      <td>НИИ дезинфектологии</td>\n",
       "      <td>niid161SM159359</td>\n",
       "      <td>test2</td>\n",
       "      <td>OK</td>\n",
       "      <td></td>\n",
       "      <td></td>\n",
       "      <td></td>\n",
       "      <td></td>\n",
       "      <td></td>\n",
       "      <td></td>\n",
       "      <td></td>\n",
       "      <td></td>\n",
       "      <td></td>\n",
       "    </tr>\n",
       "    <tr>\n",
       "      <th>barcode04_MN908947.3</th>\n",
       "      <td>2203284</td>\n",
       "      <td>test666</td>\n",
       "      <td>Еврейская автономная область</td>\n",
       "      <td>niid</td>\n",
       "      <td>6442</td>\n",
       "      <td>НИИ дезинфектологии</td>\n",
       "      <td>niid161SM159361</td>\n",
       "      <td>test666</td>\n",
       "      <td>OK</td>\n",
       "      <td></td>\n",
       "      <td></td>\n",
       "      <td></td>\n",
       "      <td></td>\n",
       "      <td></td>\n",
       "      <td></td>\n",
       "      <td></td>\n",
       "      <td></td>\n",
       "      <td></td>\n",
       "    </tr>\n",
       "  </tbody>\n",
       "</table>\n",
       "</div>"
      ],
      "text/plain": [
       "                     litech_barcode litech_sample_name  \\\n",
       "barcode                                                  \n",
       "barcode01_MN908947.3        2203281              test1   \n",
       "barcode02_MN908947.3        2203282              test2   \n",
       "barcode04_MN908947.3        2203284            test666   \n",
       "\n",
       "                                     litech_region region_short_name  \\\n",
       "barcode                                                                \n",
       "barcode01_MN908947.3  Еврейская автономная область              niid   \n",
       "barcode02_MN908947.3  Еврейская автономная область              niid   \n",
       "barcode04_MN908947.3  Еврейская автономная область              niid   \n",
       "\n",
       "                     registry_id          depart_name    sample_number  \\\n",
       "barcode                                                                  \n",
       "barcode01_MN908947.3                                                     \n",
       "barcode02_MN908947.3        6441  НИИ дезинфектологии  niid161SM159359   \n",
       "barcode04_MN908947.3        6442  НИИ дезинфектологии  niid161SM159361   \n",
       "\n",
       "                     sample_name_value       registry_guess_status valid_seq  \\\n",
       "barcode                                                                        \n",
       "barcode01_MN908947.3                    NAME AND REGION DUPLICATES             \n",
       "barcode02_MN908947.3             test2                          OK             \n",
       "barcode04_MN908947.3           test666                          OK             \n",
       "\n",
       "                     sample_status_local sample_vga_id sample_status_remote  \\\n",
       "barcode                                                                       \n",
       "barcode01_MN908947.3                                                          \n",
       "barcode02_MN908947.3                                                          \n",
       "barcode04_MN908947.3                                                          \n",
       "\n",
       "                     pango nextclade sequence_conclusion_local  \\\n",
       "barcode                                                          \n",
       "barcode01_MN908947.3                                             \n",
       "barcode02_MN908947.3                                             \n",
       "barcode04_MN908947.3                                             \n",
       "\n",
       "                     sequence_vga_id sequence_conclusion_remote  \n",
       "barcode                                                          \n",
       "barcode01_MN908947.3                                             \n",
       "barcode02_MN908947.3                                             \n",
       "barcode04_MN908947.3                                             "
      ]
     },
     "execution_count": 11,
     "metadata": {},
     "output_type": "execute_result"
    }
   ],
   "source": [
    "read_stage['payload']"
   ]
  },
  {
   "cell_type": "markdown",
   "id": "a2176227",
   "metadata": {},
   "source": [
    "Считаем FASTA"
   ]
  },
  {
   "cell_type": "code",
   "execution_count": 12,
   "id": "67b64879",
   "metadata": {},
   "outputs": [],
   "source": [
    "stage_3 = sample_status_pipe.state_sample_status_local(read_stage['payload'],\n",
    "                                                       \"test_data/test_sample_status_pipe/all_consensus.fasta\")"
   ]
  },
  {
   "cell_type": "code",
   "execution_count": 13,
   "id": "44d300d3",
   "metadata": {},
   "outputs": [
    {
     "data": {
      "text/plain": [
       "True"
      ]
     },
     "execution_count": 13,
     "metadata": {},
     "output_type": "execute_result"
    }
   ],
   "source": [
    "stage_3['success']"
   ]
  },
  {
   "cell_type": "markdown",
   "id": "280b6c8f",
   "metadata": {},
   "source": [
    "Получаем на выходе 2 объекта — таблицу TABLE и словарь с последовательностями"
   ]
  },
  {
   "cell_type": "code",
   "execution_count": 14,
   "id": "e9d7288d",
   "metadata": {},
   "outputs": [],
   "source": [
    "df, fastas = stage_3['payload']"
   ]
  },
  {
   "cell_type": "code",
   "execution_count": 15,
   "id": "f94e6fee",
   "metadata": {},
   "outputs": [
    {
     "data": {
      "text/html": [
       "<div>\n",
       "<style scoped>\n",
       "    .dataframe tbody tr th:only-of-type {\n",
       "        vertical-align: middle;\n",
       "    }\n",
       "\n",
       "    .dataframe tbody tr th {\n",
       "        vertical-align: top;\n",
       "    }\n",
       "\n",
       "    .dataframe thead th {\n",
       "        text-align: right;\n",
       "    }\n",
       "</style>\n",
       "<table border=\"1\" class=\"dataframe\">\n",
       "  <thead>\n",
       "    <tr style=\"text-align: right;\">\n",
       "      <th></th>\n",
       "      <th>litech_barcode</th>\n",
       "      <th>litech_sample_name</th>\n",
       "      <th>litech_region</th>\n",
       "      <th>region_short_name</th>\n",
       "      <th>registry_id</th>\n",
       "      <th>depart_name</th>\n",
       "      <th>sample_number</th>\n",
       "      <th>sample_name_value</th>\n",
       "      <th>registry_guess_status</th>\n",
       "      <th>valid_seq</th>\n",
       "      <th>sample_status_local</th>\n",
       "      <th>sample_vga_id</th>\n",
       "      <th>sample_status_remote</th>\n",
       "      <th>pango</th>\n",
       "      <th>nextclade</th>\n",
       "      <th>sequence_conclusion_local</th>\n",
       "      <th>sequence_vga_id</th>\n",
       "      <th>sequence_conclusion_remote</th>\n",
       "    </tr>\n",
       "    <tr>\n",
       "      <th>barcode</th>\n",
       "      <th></th>\n",
       "      <th></th>\n",
       "      <th></th>\n",
       "      <th></th>\n",
       "      <th></th>\n",
       "      <th></th>\n",
       "      <th></th>\n",
       "      <th></th>\n",
       "      <th></th>\n",
       "      <th></th>\n",
       "      <th></th>\n",
       "      <th></th>\n",
       "      <th></th>\n",
       "      <th></th>\n",
       "      <th></th>\n",
       "      <th></th>\n",
       "      <th></th>\n",
       "      <th></th>\n",
       "    </tr>\n",
       "  </thead>\n",
       "  <tbody>\n",
       "    <tr>\n",
       "      <th>barcode01_MN908947.3</th>\n",
       "      <td>2203281</td>\n",
       "      <td>test1</td>\n",
       "      <td>Еврейская автономная область</td>\n",
       "      <td>niid</td>\n",
       "      <td></td>\n",
       "      <td></td>\n",
       "      <td></td>\n",
       "      <td></td>\n",
       "      <td>NAME AND REGION DUPLICATES</td>\n",
       "      <td>False</td>\n",
       "      <td>Требуется подтверждение</td>\n",
       "      <td></td>\n",
       "      <td></td>\n",
       "      <td></td>\n",
       "      <td></td>\n",
       "      <td></td>\n",
       "      <td></td>\n",
       "      <td></td>\n",
       "    </tr>\n",
       "    <tr>\n",
       "      <th>barcode02_MN908947.3</th>\n",
       "      <td>2203282</td>\n",
       "      <td>test2</td>\n",
       "      <td>Еврейская автономная область</td>\n",
       "      <td>niid</td>\n",
       "      <td>6441</td>\n",
       "      <td>НИИ дезинфектологии</td>\n",
       "      <td>niid161SM159359</td>\n",
       "      <td>test2</td>\n",
       "      <td>OK</td>\n",
       "      <td>False</td>\n",
       "      <td>Брак сиквенса</td>\n",
       "      <td></td>\n",
       "      <td></td>\n",
       "      <td></td>\n",
       "      <td></td>\n",
       "      <td></td>\n",
       "      <td></td>\n",
       "      <td></td>\n",
       "    </tr>\n",
       "    <tr>\n",
       "      <th>barcode04_MN908947.3</th>\n",
       "      <td>2203284</td>\n",
       "      <td>test666</td>\n",
       "      <td>Еврейская автономная область</td>\n",
       "      <td>niid</td>\n",
       "      <td>6442</td>\n",
       "      <td>НИИ дезинфектологии</td>\n",
       "      <td>niid161SM159361</td>\n",
       "      <td>test666</td>\n",
       "      <td>OK</td>\n",
       "      <td>True</td>\n",
       "      <td>Готов</td>\n",
       "      <td></td>\n",
       "      <td></td>\n",
       "      <td></td>\n",
       "      <td></td>\n",
       "      <td></td>\n",
       "      <td></td>\n",
       "      <td></td>\n",
       "    </tr>\n",
       "  </tbody>\n",
       "</table>\n",
       "</div>"
      ],
      "text/plain": [
       "                     litech_barcode litech_sample_name  \\\n",
       "barcode                                                  \n",
       "barcode01_MN908947.3        2203281              test1   \n",
       "barcode02_MN908947.3        2203282              test2   \n",
       "barcode04_MN908947.3        2203284            test666   \n",
       "\n",
       "                                     litech_region region_short_name  \\\n",
       "barcode                                                                \n",
       "barcode01_MN908947.3  Еврейская автономная область              niid   \n",
       "barcode02_MN908947.3  Еврейская автономная область              niid   \n",
       "barcode04_MN908947.3  Еврейская автономная область              niid   \n",
       "\n",
       "                     registry_id          depart_name    sample_number  \\\n",
       "barcode                                                                  \n",
       "barcode01_MN908947.3                                                     \n",
       "barcode02_MN908947.3        6441  НИИ дезинфектологии  niid161SM159359   \n",
       "barcode04_MN908947.3        6442  НИИ дезинфектологии  niid161SM159361   \n",
       "\n",
       "                     sample_name_value       registry_guess_status valid_seq  \\\n",
       "barcode                                                                        \n",
       "barcode01_MN908947.3                    NAME AND REGION DUPLICATES     False   \n",
       "barcode02_MN908947.3             test2                          OK     False   \n",
       "barcode04_MN908947.3           test666                          OK      True   \n",
       "\n",
       "                          sample_status_local sample_vga_id  \\\n",
       "barcode                                                       \n",
       "barcode01_MN908947.3  Требуется подтверждение                 \n",
       "barcode02_MN908947.3            Брак сиквенса                 \n",
       "barcode04_MN908947.3                    Готов                 \n",
       "\n",
       "                     sample_status_remote pango nextclade  \\\n",
       "barcode                                                     \n",
       "barcode01_MN908947.3                                        \n",
       "barcode02_MN908947.3                                        \n",
       "barcode04_MN908947.3                                        \n",
       "\n",
       "                     sequence_conclusion_local sequence_vga_id  \\\n",
       "barcode                                                          \n",
       "barcode01_MN908947.3                                             \n",
       "barcode02_MN908947.3                                             \n",
       "barcode04_MN908947.3                                             \n",
       "\n",
       "                     sequence_conclusion_remote  \n",
       "barcode                                          \n",
       "barcode01_MN908947.3                             \n",
       "barcode02_MN908947.3                             \n",
       "barcode04_MN908947.3                             "
      ]
     },
     "execution_count": 15,
     "metadata": {},
     "output_type": "execute_result"
    }
   ],
   "source": [
    "df.head(4)"
   ]
  },
  {
   "cell_type": "markdown",
   "id": "23fcf81e",
   "metadata": {},
   "source": [
    "Запрашиваем с портала _id_ тех образцов, чьи статусы соответствуют возможным на портале статусам. "
   ]
  },
  {
   "cell_type": "code",
   "execution_count": 16,
   "id": "7cda214f",
   "metadata": {},
   "outputs": [],
   "source": [
    "stage_4 = sample_status_pipe.request_samples_info(df)"
   ]
  },
  {
   "cell_type": "code",
   "execution_count": 17,
   "id": "739ecf2c",
   "metadata": {},
   "outputs": [
    {
     "data": {
      "text/plain": [
       "True"
      ]
     },
     "execution_count": 17,
     "metadata": {},
     "output_type": "execute_result"
    }
   ],
   "source": [
    "stage_4['success']"
   ]
  },
  {
   "cell_type": "code",
   "execution_count": 18,
   "id": "2468d309",
   "metadata": {},
   "outputs": [
    {
     "data": {
      "text/html": [
       "<div>\n",
       "<style scoped>\n",
       "    .dataframe tbody tr th:only-of-type {\n",
       "        vertical-align: middle;\n",
       "    }\n",
       "\n",
       "    .dataframe tbody tr th {\n",
       "        vertical-align: top;\n",
       "    }\n",
       "\n",
       "    .dataframe thead th {\n",
       "        text-align: right;\n",
       "    }\n",
       "</style>\n",
       "<table border=\"1\" class=\"dataframe\">\n",
       "  <thead>\n",
       "    <tr style=\"text-align: right;\">\n",
       "      <th></th>\n",
       "      <th>litech_barcode</th>\n",
       "      <th>litech_sample_name</th>\n",
       "      <th>litech_region</th>\n",
       "      <th>region_short_name</th>\n",
       "      <th>registry_id</th>\n",
       "      <th>depart_name</th>\n",
       "      <th>sample_number</th>\n",
       "      <th>sample_name_value</th>\n",
       "      <th>registry_guess_status</th>\n",
       "      <th>valid_seq</th>\n",
       "      <th>sample_status_local</th>\n",
       "      <th>sample_vga_id</th>\n",
       "      <th>sample_status_remote</th>\n",
       "      <th>pango</th>\n",
       "      <th>nextclade</th>\n",
       "      <th>sequence_conclusion_local</th>\n",
       "      <th>sequence_vga_id</th>\n",
       "      <th>sequence_conclusion_remote</th>\n",
       "    </tr>\n",
       "    <tr>\n",
       "      <th>barcode</th>\n",
       "      <th></th>\n",
       "      <th></th>\n",
       "      <th></th>\n",
       "      <th></th>\n",
       "      <th></th>\n",
       "      <th></th>\n",
       "      <th></th>\n",
       "      <th></th>\n",
       "      <th></th>\n",
       "      <th></th>\n",
       "      <th></th>\n",
       "      <th></th>\n",
       "      <th></th>\n",
       "      <th></th>\n",
       "      <th></th>\n",
       "      <th></th>\n",
       "      <th></th>\n",
       "      <th></th>\n",
       "    </tr>\n",
       "  </thead>\n",
       "  <tbody>\n",
       "    <tr>\n",
       "      <th>barcode01_MN908947.3</th>\n",
       "      <td>2203281</td>\n",
       "      <td>test1</td>\n",
       "      <td>Еврейская автономная область</td>\n",
       "      <td>niid</td>\n",
       "      <td></td>\n",
       "      <td></td>\n",
       "      <td></td>\n",
       "      <td></td>\n",
       "      <td>NAME AND REGION DUPLICATES</td>\n",
       "      <td>False</td>\n",
       "      <td>Требуется подтверждение</td>\n",
       "      <td></td>\n",
       "      <td></td>\n",
       "      <td></td>\n",
       "      <td></td>\n",
       "      <td></td>\n",
       "      <td></td>\n",
       "      <td></td>\n",
       "    </tr>\n",
       "    <tr>\n",
       "      <th>barcode02_MN908947.3</th>\n",
       "      <td>2203282</td>\n",
       "      <td>test2</td>\n",
       "      <td>Еврейская автономная область</td>\n",
       "      <td>niid</td>\n",
       "      <td>6441</td>\n",
       "      <td>НИИ дезинфектологии</td>\n",
       "      <td>niid161SM159359</td>\n",
       "      <td>test2</td>\n",
       "      <td>OK</td>\n",
       "      <td>False</td>\n",
       "      <td>Брак сиквенса</td>\n",
       "      <td>246951</td>\n",
       "      <td></td>\n",
       "      <td></td>\n",
       "      <td></td>\n",
       "      <td></td>\n",
       "      <td></td>\n",
       "      <td></td>\n",
       "    </tr>\n",
       "    <tr>\n",
       "      <th>barcode04_MN908947.3</th>\n",
       "      <td>2203284</td>\n",
       "      <td>test666</td>\n",
       "      <td>Еврейская автономная область</td>\n",
       "      <td>niid</td>\n",
       "      <td>6442</td>\n",
       "      <td>НИИ дезинфектологии</td>\n",
       "      <td>niid161SM159361</td>\n",
       "      <td>test666</td>\n",
       "      <td>OK</td>\n",
       "      <td>True</td>\n",
       "      <td>Готов</td>\n",
       "      <td>246953</td>\n",
       "      <td></td>\n",
       "      <td></td>\n",
       "      <td></td>\n",
       "      <td></td>\n",
       "      <td></td>\n",
       "      <td></td>\n",
       "    </tr>\n",
       "  </tbody>\n",
       "</table>\n",
       "</div>"
      ],
      "text/plain": [
       "                     litech_barcode litech_sample_name  \\\n",
       "barcode                                                  \n",
       "barcode01_MN908947.3        2203281              test1   \n",
       "barcode02_MN908947.3        2203282              test2   \n",
       "barcode04_MN908947.3        2203284            test666   \n",
       "\n",
       "                                     litech_region region_short_name  \\\n",
       "barcode                                                                \n",
       "barcode01_MN908947.3  Еврейская автономная область              niid   \n",
       "barcode02_MN908947.3  Еврейская автономная область              niid   \n",
       "barcode04_MN908947.3  Еврейская автономная область              niid   \n",
       "\n",
       "                     registry_id          depart_name    sample_number  \\\n",
       "barcode                                                                  \n",
       "barcode01_MN908947.3                                                     \n",
       "barcode02_MN908947.3        6441  НИИ дезинфектологии  niid161SM159359   \n",
       "barcode04_MN908947.3        6442  НИИ дезинфектологии  niid161SM159361   \n",
       "\n",
       "                     sample_name_value       registry_guess_status valid_seq  \\\n",
       "barcode                                                                        \n",
       "barcode01_MN908947.3                    NAME AND REGION DUPLICATES     False   \n",
       "barcode02_MN908947.3             test2                          OK     False   \n",
       "barcode04_MN908947.3           test666                          OK      True   \n",
       "\n",
       "                          sample_status_local sample_vga_id  \\\n",
       "barcode                                                       \n",
       "barcode01_MN908947.3  Требуется подтверждение                 \n",
       "barcode02_MN908947.3            Брак сиквенса        246951   \n",
       "barcode04_MN908947.3                    Готов        246953   \n",
       "\n",
       "                     sample_status_remote pango nextclade  \\\n",
       "barcode                                                     \n",
       "barcode01_MN908947.3                                        \n",
       "barcode02_MN908947.3                                        \n",
       "barcode04_MN908947.3                                        \n",
       "\n",
       "                     sequence_conclusion_local sequence_vga_id  \\\n",
       "barcode                                                          \n",
       "barcode01_MN908947.3                                             \n",
       "barcode02_MN908947.3                                             \n",
       "barcode04_MN908947.3                                             \n",
       "\n",
       "                     sequence_conclusion_remote  \n",
       "barcode                                          \n",
       "barcode01_MN908947.3                             \n",
       "barcode02_MN908947.3                             \n",
       "barcode04_MN908947.3                             "
      ]
     },
     "execution_count": 18,
     "metadata": {},
     "output_type": "execute_result"
    }
   ],
   "source": [
    "stage_4['payload']"
   ]
  },
  {
   "cell_type": "markdown",
   "id": "74c7a700",
   "metadata": {},
   "source": [
    "Считываем логин и пароль для Basic авторизации"
   ]
  },
  {
   "cell_type": "code",
   "execution_count": 19,
   "id": "5f068642",
   "metadata": {},
   "outputs": [],
   "source": [
    "with open(\"test_data/credentials.json\", \"r\") as ff:\n",
    "    cre = json.load(ff)"
   ]
  },
  {
   "cell_type": "markdown",
   "id": "0459058f",
   "metadata": {},
   "source": [
    "Направляем образцы на загрузку"
   ]
  },
  {
   "cell_type": "code",
   "execution_count": 20,
   "id": "bae43c70",
   "metadata": {},
   "outputs": [],
   "source": [
    "stage_5 = sample_status_pipe.upload_sequences(stage_4['payload'], fastas, cre)"
   ]
  },
  {
   "cell_type": "code",
   "execution_count": 21,
   "id": "6cea10de",
   "metadata": {},
   "outputs": [
    {
     "data": {
      "text/plain": [
       "True"
      ]
     },
     "execution_count": 21,
     "metadata": {},
     "output_type": "execute_result"
    }
   ],
   "source": [
    "stage_5['success']"
   ]
  },
  {
   "cell_type": "code",
   "execution_count": 22,
   "id": "4f4e1499",
   "metadata": {},
   "outputs": [
    {
     "data": {
      "text/html": [
       "<div>\n",
       "<style scoped>\n",
       "    .dataframe tbody tr th:only-of-type {\n",
       "        vertical-align: middle;\n",
       "    }\n",
       "\n",
       "    .dataframe tbody tr th {\n",
       "        vertical-align: top;\n",
       "    }\n",
       "\n",
       "    .dataframe thead th {\n",
       "        text-align: right;\n",
       "    }\n",
       "</style>\n",
       "<table border=\"1\" class=\"dataframe\">\n",
       "  <thead>\n",
       "    <tr style=\"text-align: right;\">\n",
       "      <th></th>\n",
       "      <th>litech_barcode</th>\n",
       "      <th>litech_sample_name</th>\n",
       "      <th>litech_region</th>\n",
       "      <th>region_short_name</th>\n",
       "      <th>registry_id</th>\n",
       "      <th>depart_name</th>\n",
       "      <th>sample_number</th>\n",
       "      <th>sample_name_value</th>\n",
       "      <th>registry_guess_status</th>\n",
       "      <th>valid_seq</th>\n",
       "      <th>sample_status_local</th>\n",
       "      <th>sample_vga_id</th>\n",
       "      <th>sample_status_remote</th>\n",
       "      <th>pango</th>\n",
       "      <th>nextclade</th>\n",
       "      <th>sequence_conclusion_local</th>\n",
       "      <th>sequence_vga_id</th>\n",
       "      <th>sequence_conclusion_remote</th>\n",
       "    </tr>\n",
       "    <tr>\n",
       "      <th>barcode</th>\n",
       "      <th></th>\n",
       "      <th></th>\n",
       "      <th></th>\n",
       "      <th></th>\n",
       "      <th></th>\n",
       "      <th></th>\n",
       "      <th></th>\n",
       "      <th></th>\n",
       "      <th></th>\n",
       "      <th></th>\n",
       "      <th></th>\n",
       "      <th></th>\n",
       "      <th></th>\n",
       "      <th></th>\n",
       "      <th></th>\n",
       "      <th></th>\n",
       "      <th></th>\n",
       "      <th></th>\n",
       "    </tr>\n",
       "  </thead>\n",
       "  <tbody>\n",
       "    <tr>\n",
       "      <th>barcode01_MN908947.3</th>\n",
       "      <td>2203281</td>\n",
       "      <td>test1</td>\n",
       "      <td>Еврейская автономная область</td>\n",
       "      <td>niid</td>\n",
       "      <td></td>\n",
       "      <td></td>\n",
       "      <td></td>\n",
       "      <td></td>\n",
       "      <td>NAME AND REGION DUPLICATES</td>\n",
       "      <td>False</td>\n",
       "      <td>Требуется подтверждение</td>\n",
       "      <td></td>\n",
       "      <td></td>\n",
       "      <td></td>\n",
       "      <td></td>\n",
       "      <td></td>\n",
       "      <td></td>\n",
       "      <td></td>\n",
       "    </tr>\n",
       "    <tr>\n",
       "      <th>barcode02_MN908947.3</th>\n",
       "      <td>2203282</td>\n",
       "      <td>test2</td>\n",
       "      <td>Еврейская автономная область</td>\n",
       "      <td>niid</td>\n",
       "      <td>6441</td>\n",
       "      <td>НИИ дезинфектологии</td>\n",
       "      <td>niid161SM159359</td>\n",
       "      <td>test2</td>\n",
       "      <td>OK</td>\n",
       "      <td>False</td>\n",
       "      <td>Брак сиквенса</td>\n",
       "      <td>246951</td>\n",
       "      <td></td>\n",
       "      <td></td>\n",
       "      <td></td>\n",
       "      <td></td>\n",
       "      <td></td>\n",
       "      <td></td>\n",
       "    </tr>\n",
       "    <tr>\n",
       "      <th>barcode04_MN908947.3</th>\n",
       "      <td>2203284</td>\n",
       "      <td>test666</td>\n",
       "      <td>Еврейская автономная область</td>\n",
       "      <td>niid</td>\n",
       "      <td>6442</td>\n",
       "      <td>НИИ дезинфектологии</td>\n",
       "      <td>niid161SM159361</td>\n",
       "      <td>test666</td>\n",
       "      <td>OK</td>\n",
       "      <td>True</td>\n",
       "      <td>Готов</td>\n",
       "      <td>246953</td>\n",
       "      <td>Uploaded</td>\n",
       "      <td></td>\n",
       "      <td></td>\n",
       "      <td></td>\n",
       "      <td></td>\n",
       "      <td></td>\n",
       "    </tr>\n",
       "  </tbody>\n",
       "</table>\n",
       "</div>"
      ],
      "text/plain": [
       "                     litech_barcode litech_sample_name  \\\n",
       "barcode                                                  \n",
       "barcode01_MN908947.3        2203281              test1   \n",
       "barcode02_MN908947.3        2203282              test2   \n",
       "barcode04_MN908947.3        2203284            test666   \n",
       "\n",
       "                                     litech_region region_short_name  \\\n",
       "barcode                                                                \n",
       "barcode01_MN908947.3  Еврейская автономная область              niid   \n",
       "barcode02_MN908947.3  Еврейская автономная область              niid   \n",
       "barcode04_MN908947.3  Еврейская автономная область              niid   \n",
       "\n",
       "                     registry_id          depart_name    sample_number  \\\n",
       "barcode                                                                  \n",
       "barcode01_MN908947.3                                                     \n",
       "barcode02_MN908947.3        6441  НИИ дезинфектологии  niid161SM159359   \n",
       "barcode04_MN908947.3        6442  НИИ дезинфектологии  niid161SM159361   \n",
       "\n",
       "                     sample_name_value       registry_guess_status valid_seq  \\\n",
       "barcode                                                                        \n",
       "barcode01_MN908947.3                    NAME AND REGION DUPLICATES     False   \n",
       "barcode02_MN908947.3             test2                          OK     False   \n",
       "barcode04_MN908947.3           test666                          OK      True   \n",
       "\n",
       "                          sample_status_local sample_vga_id  \\\n",
       "barcode                                                       \n",
       "barcode01_MN908947.3  Требуется подтверждение                 \n",
       "barcode02_MN908947.3            Брак сиквенса        246951   \n",
       "barcode04_MN908947.3                    Готов        246953   \n",
       "\n",
       "                     sample_status_remote pango nextclade  \\\n",
       "barcode                                                     \n",
       "barcode01_MN908947.3                                        \n",
       "barcode02_MN908947.3                                        \n",
       "barcode04_MN908947.3             Uploaded                   \n",
       "\n",
       "                     sequence_conclusion_local sequence_vga_id  \\\n",
       "barcode                                                          \n",
       "barcode01_MN908947.3                                             \n",
       "barcode02_MN908947.3                                             \n",
       "barcode04_MN908947.3                                             \n",
       "\n",
       "                     sequence_conclusion_remote  \n",
       "barcode                                          \n",
       "barcode01_MN908947.3                             \n",
       "barcode02_MN908947.3                             \n",
       "barcode04_MN908947.3                             "
      ]
     },
     "execution_count": 22,
     "metadata": {},
     "output_type": "execute_result"
    }
   ],
   "source": [
    "stage_5['payload']"
   ]
  },
  {
   "cell_type": "markdown",
   "id": "4968db3c",
   "metadata": {},
   "source": [
    "Просматриваем статус для загруженных"
   ]
  },
  {
   "cell_type": "code",
   "execution_count": 24,
   "id": "0671e4b3",
   "metadata": {},
   "outputs": [
    {
     "data": {
      "text/plain": [
       "'Uploaded'"
      ]
     },
     "execution_count": 24,
     "metadata": {},
     "output_type": "execute_result"
    }
   ],
   "source": [
    "stage_5['payload'].loc['barcode04_MN908947.3', 'sample_status_remote']"
   ]
  },
  {
   "cell_type": "markdown",
   "id": "050a4258",
   "metadata": {},
   "source": [
    "Проставляем статус \"Брак сиквенса\""
   ]
  },
  {
   "cell_type": "code",
   "execution_count": 25,
   "id": "bb831f13",
   "metadata": {},
   "outputs": [],
   "source": [
    "stage_5a = sample_status_pipe.state_sample_status_remote(stage_5['payload'])"
   ]
  },
  {
   "cell_type": "code",
   "execution_count": 26,
   "id": "90f054e8",
   "metadata": {},
   "outputs": [
    {
     "data": {
      "text/plain": [
       "True"
      ]
     },
     "execution_count": 26,
     "metadata": {},
     "output_type": "execute_result"
    }
   ],
   "source": [
    "stage_5a['success']"
   ]
  },
  {
   "cell_type": "code",
   "execution_count": 27,
   "id": "7d21e9ff",
   "metadata": {},
   "outputs": [
    {
     "data": {
      "text/html": [
       "<div>\n",
       "<style scoped>\n",
       "    .dataframe tbody tr th:only-of-type {\n",
       "        vertical-align: middle;\n",
       "    }\n",
       "\n",
       "    .dataframe tbody tr th {\n",
       "        vertical-align: top;\n",
       "    }\n",
       "\n",
       "    .dataframe thead th {\n",
       "        text-align: right;\n",
       "    }\n",
       "</style>\n",
       "<table border=\"1\" class=\"dataframe\">\n",
       "  <thead>\n",
       "    <tr style=\"text-align: right;\">\n",
       "      <th></th>\n",
       "      <th>litech_barcode</th>\n",
       "      <th>litech_sample_name</th>\n",
       "      <th>litech_region</th>\n",
       "      <th>region_short_name</th>\n",
       "      <th>registry_id</th>\n",
       "      <th>depart_name</th>\n",
       "      <th>sample_number</th>\n",
       "      <th>sample_name_value</th>\n",
       "      <th>registry_guess_status</th>\n",
       "      <th>valid_seq</th>\n",
       "      <th>sample_status_local</th>\n",
       "      <th>sample_vga_id</th>\n",
       "      <th>sample_status_remote</th>\n",
       "      <th>pango</th>\n",
       "      <th>nextclade</th>\n",
       "      <th>sequence_conclusion_local</th>\n",
       "      <th>sequence_vga_id</th>\n",
       "      <th>sequence_conclusion_remote</th>\n",
       "    </tr>\n",
       "    <tr>\n",
       "      <th>barcode</th>\n",
       "      <th></th>\n",
       "      <th></th>\n",
       "      <th></th>\n",
       "      <th></th>\n",
       "      <th></th>\n",
       "      <th></th>\n",
       "      <th></th>\n",
       "      <th></th>\n",
       "      <th></th>\n",
       "      <th></th>\n",
       "      <th></th>\n",
       "      <th></th>\n",
       "      <th></th>\n",
       "      <th></th>\n",
       "      <th></th>\n",
       "      <th></th>\n",
       "      <th></th>\n",
       "      <th></th>\n",
       "    </tr>\n",
       "  </thead>\n",
       "  <tbody>\n",
       "    <tr>\n",
       "      <th>barcode01_MN908947.3</th>\n",
       "      <td>2203281</td>\n",
       "      <td>test1</td>\n",
       "      <td>Еврейская автономная область</td>\n",
       "      <td>niid</td>\n",
       "      <td></td>\n",
       "      <td></td>\n",
       "      <td></td>\n",
       "      <td></td>\n",
       "      <td>NAME AND REGION DUPLICATES</td>\n",
       "      <td>False</td>\n",
       "      <td>Требуется подтверждение</td>\n",
       "      <td></td>\n",
       "      <td></td>\n",
       "      <td></td>\n",
       "      <td></td>\n",
       "      <td></td>\n",
       "      <td></td>\n",
       "      <td></td>\n",
       "    </tr>\n",
       "    <tr>\n",
       "      <th>barcode02_MN908947.3</th>\n",
       "      <td>2203282</td>\n",
       "      <td>test2</td>\n",
       "      <td>Еврейская автономная область</td>\n",
       "      <td>niid</td>\n",
       "      <td>6441</td>\n",
       "      <td>НИИ дезинфектологии</td>\n",
       "      <td>niid161SM159359</td>\n",
       "      <td>test2</td>\n",
       "      <td>OK</td>\n",
       "      <td>False</td>\n",
       "      <td>Брак сиквенса</td>\n",
       "      <td>246951</td>\n",
       "      <td>Проставлено</td>\n",
       "      <td></td>\n",
       "      <td></td>\n",
       "      <td></td>\n",
       "      <td></td>\n",
       "      <td></td>\n",
       "    </tr>\n",
       "    <tr>\n",
       "      <th>barcode04_MN908947.3</th>\n",
       "      <td>2203284</td>\n",
       "      <td>test666</td>\n",
       "      <td>Еврейская автономная область</td>\n",
       "      <td>niid</td>\n",
       "      <td>6442</td>\n",
       "      <td>НИИ дезинфектологии</td>\n",
       "      <td>niid161SM159361</td>\n",
       "      <td>test666</td>\n",
       "      <td>OK</td>\n",
       "      <td>True</td>\n",
       "      <td>Готов</td>\n",
       "      <td>246953</td>\n",
       "      <td>Uploaded</td>\n",
       "      <td></td>\n",
       "      <td></td>\n",
       "      <td></td>\n",
       "      <td></td>\n",
       "      <td></td>\n",
       "    </tr>\n",
       "  </tbody>\n",
       "</table>\n",
       "</div>"
      ],
      "text/plain": [
       "                     litech_barcode litech_sample_name  \\\n",
       "barcode                                                  \n",
       "barcode01_MN908947.3        2203281              test1   \n",
       "barcode02_MN908947.3        2203282              test2   \n",
       "barcode04_MN908947.3        2203284            test666   \n",
       "\n",
       "                                     litech_region region_short_name  \\\n",
       "barcode                                                                \n",
       "barcode01_MN908947.3  Еврейская автономная область              niid   \n",
       "barcode02_MN908947.3  Еврейская автономная область              niid   \n",
       "barcode04_MN908947.3  Еврейская автономная область              niid   \n",
       "\n",
       "                     registry_id          depart_name    sample_number  \\\n",
       "barcode                                                                  \n",
       "barcode01_MN908947.3                                                     \n",
       "barcode02_MN908947.3        6441  НИИ дезинфектологии  niid161SM159359   \n",
       "barcode04_MN908947.3        6442  НИИ дезинфектологии  niid161SM159361   \n",
       "\n",
       "                     sample_name_value       registry_guess_status valid_seq  \\\n",
       "barcode                                                                        \n",
       "barcode01_MN908947.3                    NAME AND REGION DUPLICATES     False   \n",
       "barcode02_MN908947.3             test2                          OK     False   \n",
       "barcode04_MN908947.3           test666                          OK      True   \n",
       "\n",
       "                          sample_status_local sample_vga_id  \\\n",
       "barcode                                                       \n",
       "barcode01_MN908947.3  Требуется подтверждение                 \n",
       "barcode02_MN908947.3            Брак сиквенса        246951   \n",
       "barcode04_MN908947.3                    Готов        246953   \n",
       "\n",
       "                     sample_status_remote pango nextclade  \\\n",
       "barcode                                                     \n",
       "barcode01_MN908947.3                                        \n",
       "barcode02_MN908947.3          Проставлено                   \n",
       "barcode04_MN908947.3             Uploaded                   \n",
       "\n",
       "                     sequence_conclusion_local sequence_vga_id  \\\n",
       "barcode                                                          \n",
       "barcode01_MN908947.3                                             \n",
       "barcode02_MN908947.3                                             \n",
       "barcode04_MN908947.3                                             \n",
       "\n",
       "                     sequence_conclusion_remote  \n",
       "barcode                                          \n",
       "barcode01_MN908947.3                             \n",
       "barcode02_MN908947.3                             \n",
       "barcode04_MN908947.3                             "
      ]
     },
     "execution_count": 27,
     "metadata": {},
     "output_type": "execute_result"
    }
   ],
   "source": [
    "stage_5a['payload']"
   ]
  },
  {
   "cell_type": "code",
   "execution_count": 31,
   "id": "e920a0b4",
   "metadata": {},
   "outputs": [
    {
     "data": {
      "text/plain": [
       "'Проставлено'"
      ]
     },
     "execution_count": 31,
     "metadata": {},
     "output_type": "execute_result"
    }
   ],
   "source": [
    "stage_5a['payload'].loc['barcode02_MN908947.3', 'sample_status_remote']"
   ]
  },
  {
   "cell_type": "markdown",
   "id": "637410a3",
   "metadata": {},
   "source": [
    "Сохраняем для дальнейшего использования"
   ]
  },
  {
   "cell_type": "code",
   "execution_count": 35,
   "id": "18021b27",
   "metadata": {},
   "outputs": [
    {
     "data": {
      "text/plain": [
       "{'success': True,\n",
       " 'payload': 'Успешно сохранено в `test_data/test_sample_status_pipe/result.csv`'}"
      ]
     },
     "execution_count": 35,
     "metadata": {},
     "output_type": "execute_result"
    }
   ],
   "source": [
    "cmc.save_concatenated_table(stage_5a['payload'], \"test_data/test_sample_status_pipe/result.csv\")"
   ]
  },
  {
   "cell_type": "code",
   "execution_count": null,
   "id": "bce0f904",
   "metadata": {},
   "outputs": [],
   "source": []
  }
 ],
 "metadata": {
  "kernelspec": {
   "display_name": "Python 3",
   "language": "python",
   "name": "python3"
  },
  "language_info": {
   "codemirror_mode": {
    "name": "ipython",
    "version": 3
   },
   "file_extension": ".py",
   "mimetype": "text/x-python",
   "name": "python",
   "nbconvert_exporter": "python",
   "pygments_lexer": "ipython3",
   "version": "3.8.8"
  }
 },
 "nbformat": 4,
 "nbformat_minor": 5
}
