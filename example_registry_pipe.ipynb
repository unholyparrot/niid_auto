{
 "cells": [
  {
   "cell_type": "code",
   "execution_count": 1,
   "id": "9968dbaa",
   "metadata": {},
   "outputs": [],
   "source": [
    "from carmon import registry_pipe\n",
    "from carmon import common as cmc"
   ]
  },
  {
   "cell_type": "markdown",
   "id": "8807ac13",
   "metadata": {},
   "source": [
    "Взглянем на ошибочные отработки"
   ]
  },
  {
   "cell_type": "code",
   "execution_count": 2,
   "id": "c7f46100",
   "metadata": {},
   "outputs": [],
   "source": [
    "error_stage = registry_pipe.read_input_tables(\"test_data\", \n",
    "                                              \"test_data\",\n",
    "                                              separator=\"\\t\")"
   ]
  },
  {
   "cell_type": "code",
   "execution_count": 3,
   "id": "ffce8a6f",
   "metadata": {},
   "outputs": [
    {
     "data": {
      "text/plain": [
       "{'success': False, 'payload': \"[Errno 13] Permission denied: 'test_data'\"}"
      ]
     },
     "execution_count": 3,
     "metadata": {},
     "output_type": "execute_result"
    }
   ],
   "source": [
    "error_stage"
   ]
  },
  {
   "cell_type": "code",
   "execution_count": 4,
   "id": "58d2f622",
   "metadata": {},
   "outputs": [],
   "source": [
    "error_stage = registry_pipe.read_input_tables(\"test_data/tab1.csv\", \n",
    "                                              \"test_data/tab2.csv\",\n",
    "                                              separator=\"\\t\")"
   ]
  },
  {
   "cell_type": "code",
   "execution_count": 5,
   "id": "9dfd3f31",
   "metadata": {},
   "outputs": [
    {
     "data": {
      "text/plain": [
       "{'success': False,\n",
       " 'payload': \"[Errno 2] No such file or directory: 'test_data/tab1.csv'\"}"
      ]
     },
     "execution_count": 5,
     "metadata": {},
     "output_type": "execute_result"
    }
   ],
   "source": [
    "error_stage"
   ]
  },
  {
   "cell_type": "markdown",
   "id": "959816ca",
   "metadata": {},
   "source": [
    "Теперь проверим корректный запуск, передадим пути к файлам с таблицами"
   ]
  },
  {
   "cell_type": "code",
   "execution_count": 6,
   "id": "a992d265",
   "metadata": {},
   "outputs": [],
   "source": [
    "stage_1 = registry_pipe.read_input_tables(\"test_data/test_registry_pipe/FROM_2.txt\", \n",
    "                                          \"test_data/test_registry_pipe/FROM_3.txt\",\n",
    "                                          separator=\"\\t\")"
   ]
  },
  {
   "cell_type": "markdown",
   "id": "4e607095",
   "metadata": {},
   "source": [
    "Проверим успех операции"
   ]
  },
  {
   "cell_type": "code",
   "execution_count": 7,
   "id": "0339972a",
   "metadata": {},
   "outputs": [
    {
     "data": {
      "text/plain": [
       "True"
      ]
     },
     "execution_count": 7,
     "metadata": {},
     "output_type": "execute_result"
    }
   ],
   "source": [
    "stage_1['success']"
   ]
  },
  {
   "cell_type": "code",
   "execution_count": 8,
   "id": "d3d9751f",
   "metadata": {},
   "outputs": [
    {
     "data": {
      "text/html": [
       "<div>\n",
       "<style scoped>\n",
       "    .dataframe tbody tr th:only-of-type {\n",
       "        vertical-align: middle;\n",
       "    }\n",
       "\n",
       "    .dataframe tbody tr th {\n",
       "        vertical-align: top;\n",
       "    }\n",
       "\n",
       "    .dataframe thead th {\n",
       "        text-align: right;\n",
       "    }\n",
       "</style>\n",
       "<table border=\"1\" class=\"dataframe\">\n",
       "  <thead>\n",
       "    <tr style=\"text-align: right;\">\n",
       "      <th></th>\n",
       "      <th>litech_barcode</th>\n",
       "      <th>litech_sample_name</th>\n",
       "      <th>litech_region</th>\n",
       "      <th>litech_rna_pool</th>\n",
       "      <th>litech_registry_guess</th>\n",
       "      <th>barcode</th>\n",
       "    </tr>\n",
       "  </thead>\n",
       "  <tbody>\n",
       "    <tr>\n",
       "      <th>64</th>\n",
       "      <td>90722</td>\n",
       "      <td>5793</td>\n",
       "      <td>Брянская область</td>\n",
       "      <td>123</td>\n",
       "      <td>641;624;643</td>\n",
       "      <td>barcode01_MN908947.3</td>\n",
       "    </tr>\n",
       "    <tr>\n",
       "      <th>65</th>\n",
       "      <td>90723</td>\n",
       "      <td>5701</td>\n",
       "      <td>Брянская область</td>\n",
       "      <td>123</td>\n",
       "      <td>641;624;643</td>\n",
       "      <td>barcode02_MN908947.3</td>\n",
       "    </tr>\n",
       "    <tr>\n",
       "      <th>67</th>\n",
       "      <td>90725</td>\n",
       "      <td>5610</td>\n",
       "      <td>Брянская область</td>\n",
       "      <td>123</td>\n",
       "      <td>641;624;643</td>\n",
       "      <td>barcode03_MN908947.3</td>\n",
       "    </tr>\n",
       "  </tbody>\n",
       "</table>\n",
       "</div>"
      ],
      "text/plain": [
       "   litech_barcode litech_sample_name     litech_region litech_rna_pool  \\\n",
       "64          90722               5793  Брянская область             123   \n",
       "65          90723               5701  Брянская область             123   \n",
       "67          90725               5610  Брянская область             123   \n",
       "\n",
       "   litech_registry_guess               barcode  \n",
       "64           641;624;643  barcode01_MN908947.3  \n",
       "65           641;624;643  barcode02_MN908947.3  \n",
       "67           641;624;643  barcode03_MN908947.3  "
      ]
     },
     "execution_count": 8,
     "metadata": {},
     "output_type": "execute_result"
    }
   ],
   "source": [
    "df = stage_1['payload']\n",
    "df.head(3)"
   ]
  },
  {
   "cell_type": "markdown",
   "id": "5cde0509",
   "metadata": {},
   "source": [
    "Считываем таблицу со всеми реестрами"
   ]
  },
  {
   "cell_type": "code",
   "execution_count": 9,
   "id": "5fd628cd",
   "metadata": {},
   "outputs": [],
   "source": [
    "stage_2 = registry_pipe.read_all_registry_info(\"test_data/test_registry_pipe/registry.csv\")"
   ]
  },
  {
   "cell_type": "code",
   "execution_count": 10,
   "id": "8c2a7691",
   "metadata": {},
   "outputs": [
    {
     "data": {
      "text/plain": [
       "True"
      ]
     },
     "execution_count": 10,
     "metadata": {},
     "output_type": "execute_result"
    }
   ],
   "source": [
    "stage_2['success']"
   ]
  },
  {
   "cell_type": "code",
   "execution_count": 11,
   "id": "662c7309",
   "metadata": {},
   "outputs": [
    {
     "data": {
      "text/html": [
       "<div>\n",
       "<style scoped>\n",
       "    .dataframe tbody tr th:only-of-type {\n",
       "        vertical-align: middle;\n",
       "    }\n",
       "\n",
       "    .dataframe tbody tr th {\n",
       "        vertical-align: top;\n",
       "    }\n",
       "\n",
       "    .dataframe thead th {\n",
       "        text-align: right;\n",
       "    }\n",
       "</style>\n",
       "<table border=\"1\" class=\"dataframe\">\n",
       "  <thead>\n",
       "    <tr style=\"text-align: right;\">\n",
       "      <th></th>\n",
       "      <th>registry_id</th>\n",
       "      <th>depart_name</th>\n",
       "      <th>sample_number</th>\n",
       "      <th>value</th>\n",
       "    </tr>\n",
       "  </thead>\n",
       "  <tbody>\n",
       "    <tr>\n",
       "      <th>0</th>\n",
       "      <td>6537</td>\n",
       "      <td>ФБУЗ ЦГиЭ по Белгородской области</td>\n",
       "      <td>belg140SM160220</td>\n",
       "      <td>BE3050</td>\n",
       "    </tr>\n",
       "    <tr>\n",
       "      <th>1</th>\n",
       "      <td>6537</td>\n",
       "      <td>ФБУЗ ЦГиЭ по Белгородской области</td>\n",
       "      <td>belg140SM160222</td>\n",
       "      <td>BE3051</td>\n",
       "    </tr>\n",
       "    <tr>\n",
       "      <th>2</th>\n",
       "      <td>6537</td>\n",
       "      <td>ФБУЗ ЦГиЭ по Белгородской области</td>\n",
       "      <td>belg140SM160224</td>\n",
       "      <td>BE3052</td>\n",
       "    </tr>\n",
       "  </tbody>\n",
       "</table>\n",
       "</div>"
      ],
      "text/plain": [
       "  registry_id                        depart_name    sample_number   value\n",
       "0        6537  ФБУЗ ЦГиЭ по Белгородской области  belg140SM160220  BE3050\n",
       "1        6537  ФБУЗ ЦГиЭ по Белгородской области  belg140SM160222  BE3051\n",
       "2        6537  ФБУЗ ЦГиЭ по Белгородской области  belg140SM160224  BE3052"
      ]
     },
     "execution_count": 11,
     "metadata": {},
     "output_type": "execute_result"
    }
   ],
   "source": [
    "ref = stage_2['payload']\n",
    "ref.head(3)"
   ]
  },
  {
   "cell_type": "markdown",
   "id": "cd693c26",
   "metadata": {},
   "source": [
    "Производим подготовительные манипуляции с таблицами"
   ]
  },
  {
   "cell_type": "code",
   "execution_count": 12,
   "id": "fe482fc8",
   "metadata": {},
   "outputs": [],
   "source": [
    "stage_3 = registry_pipe.append_desired_columns(df)"
   ]
  },
  {
   "cell_type": "code",
   "execution_count": 13,
   "id": "6df8ca49",
   "metadata": {},
   "outputs": [
    {
     "data": {
      "text/plain": [
       "True"
      ]
     },
     "execution_count": 13,
     "metadata": {},
     "output_type": "execute_result"
    }
   ],
   "source": [
    "stage_3['success']"
   ]
  },
  {
   "cell_type": "code",
   "execution_count": 14,
   "id": "dc07e3b1",
   "metadata": {},
   "outputs": [
    {
     "data": {
      "text/html": [
       "<div>\n",
       "<style scoped>\n",
       "    .dataframe tbody tr th:only-of-type {\n",
       "        vertical-align: middle;\n",
       "    }\n",
       "\n",
       "    .dataframe tbody tr th {\n",
       "        vertical-align: top;\n",
       "    }\n",
       "\n",
       "    .dataframe thead th {\n",
       "        text-align: right;\n",
       "    }\n",
       "</style>\n",
       "<table border=\"1\" class=\"dataframe\">\n",
       "  <thead>\n",
       "    <tr style=\"text-align: right;\">\n",
       "      <th></th>\n",
       "      <th>barcode</th>\n",
       "      <th>litech_barcode</th>\n",
       "      <th>litech_sample_name</th>\n",
       "      <th>litech_region</th>\n",
       "      <th>region_short_name</th>\n",
       "      <th>registry_id</th>\n",
       "      <th>depart_name</th>\n",
       "      <th>sample_number</th>\n",
       "      <th>sample_name_value</th>\n",
       "      <th>registry_guess_status</th>\n",
       "      <th>valid_seq</th>\n",
       "      <th>sample_status_local</th>\n",
       "      <th>sample_vga_id</th>\n",
       "      <th>sample_status_remote</th>\n",
       "      <th>pango</th>\n",
       "      <th>nextclade</th>\n",
       "      <th>sequence_conclusion_local</th>\n",
       "      <th>sequence_vga_id</th>\n",
       "      <th>sequence_conclusion_remote</th>\n",
       "    </tr>\n",
       "  </thead>\n",
       "  <tbody>\n",
       "    <tr>\n",
       "      <th>0</th>\n",
       "      <td>barcode01_MN908947.3</td>\n",
       "      <td>90722</td>\n",
       "      <td>5793</td>\n",
       "      <td>Брянская область</td>\n",
       "      <td>brya</td>\n",
       "      <td></td>\n",
       "      <td></td>\n",
       "      <td></td>\n",
       "      <td></td>\n",
       "      <td></td>\n",
       "      <td></td>\n",
       "      <td></td>\n",
       "      <td></td>\n",
       "      <td></td>\n",
       "      <td></td>\n",
       "      <td></td>\n",
       "      <td></td>\n",
       "      <td></td>\n",
       "      <td></td>\n",
       "    </tr>\n",
       "    <tr>\n",
       "      <th>1</th>\n",
       "      <td>barcode02_MN908947.3</td>\n",
       "      <td>90723</td>\n",
       "      <td>5701</td>\n",
       "      <td>Брянская область</td>\n",
       "      <td>brya</td>\n",
       "      <td></td>\n",
       "      <td></td>\n",
       "      <td></td>\n",
       "      <td></td>\n",
       "      <td></td>\n",
       "      <td></td>\n",
       "      <td></td>\n",
       "      <td></td>\n",
       "      <td></td>\n",
       "      <td></td>\n",
       "      <td></td>\n",
       "      <td></td>\n",
       "      <td></td>\n",
       "      <td></td>\n",
       "    </tr>\n",
       "    <tr>\n",
       "      <th>2</th>\n",
       "      <td>barcode03_MN908947.3</td>\n",
       "      <td>90725</td>\n",
       "      <td>5610</td>\n",
       "      <td>Брянская область</td>\n",
       "      <td>brya</td>\n",
       "      <td></td>\n",
       "      <td></td>\n",
       "      <td></td>\n",
       "      <td></td>\n",
       "      <td></td>\n",
       "      <td></td>\n",
       "      <td></td>\n",
       "      <td></td>\n",
       "      <td></td>\n",
       "      <td></td>\n",
       "      <td></td>\n",
       "      <td></td>\n",
       "      <td></td>\n",
       "      <td></td>\n",
       "    </tr>\n",
       "  </tbody>\n",
       "</table>\n",
       "</div>"
      ],
      "text/plain": [
       "                barcode litech_barcode litech_sample_name     litech_region  \\\n",
       "0  barcode01_MN908947.3          90722               5793  Брянская область   \n",
       "1  barcode02_MN908947.3          90723               5701  Брянская область   \n",
       "2  barcode03_MN908947.3          90725               5610  Брянская область   \n",
       "\n",
       "  region_short_name registry_id depart_name sample_number sample_name_value  \\\n",
       "0              brya                                                           \n",
       "1              brya                                                           \n",
       "2              brya                                                           \n",
       "\n",
       "  registry_guess_status valid_seq sample_status_local sample_vga_id  \\\n",
       "0                                                                     \n",
       "1                                                                     \n",
       "2                                                                     \n",
       "\n",
       "  sample_status_remote pango nextclade sequence_conclusion_local  \\\n",
       "0                                                                  \n",
       "1                                                                  \n",
       "2                                                                  \n",
       "\n",
       "  sequence_vga_id sequence_conclusion_remote  \n",
       "0                                             \n",
       "1                                             \n",
       "2                                             "
      ]
     },
     "execution_count": 14,
     "metadata": {},
     "output_type": "execute_result"
    }
   ],
   "source": [
    "df = stage_3['payload']\n",
    "df.head(3)"
   ]
  },
  {
   "cell_type": "markdown",
   "id": "e5bd9309",
   "metadata": {},
   "source": [
    "Производим поиск образцов в реестре"
   ]
  },
  {
   "cell_type": "code",
   "execution_count": 15,
   "id": "fe0fabbd",
   "metadata": {},
   "outputs": [],
   "source": [
    "stage_4 = registry_pipe.process_table_concatenation(df, ref)"
   ]
  },
  {
   "cell_type": "code",
   "execution_count": 16,
   "id": "34269255",
   "metadata": {},
   "outputs": [
    {
     "data": {
      "text/plain": [
       "True"
      ]
     },
     "execution_count": 16,
     "metadata": {},
     "output_type": "execute_result"
    }
   ],
   "source": [
    "stage_4['success']"
   ]
  },
  {
   "cell_type": "code",
   "execution_count": 17,
   "id": "15ebeaad",
   "metadata": {},
   "outputs": [
    {
     "data": {
      "text/html": [
       "<div>\n",
       "<style scoped>\n",
       "    .dataframe tbody tr th:only-of-type {\n",
       "        vertical-align: middle;\n",
       "    }\n",
       "\n",
       "    .dataframe tbody tr th {\n",
       "        vertical-align: top;\n",
       "    }\n",
       "\n",
       "    .dataframe thead th {\n",
       "        text-align: right;\n",
       "    }\n",
       "</style>\n",
       "<table border=\"1\" class=\"dataframe\">\n",
       "  <thead>\n",
       "    <tr style=\"text-align: right;\">\n",
       "      <th></th>\n",
       "      <th>barcode</th>\n",
       "      <th>litech_barcode</th>\n",
       "      <th>litech_sample_name</th>\n",
       "      <th>litech_region</th>\n",
       "      <th>region_short_name</th>\n",
       "      <th>registry_id</th>\n",
       "      <th>depart_name</th>\n",
       "      <th>sample_number</th>\n",
       "      <th>sample_name_value</th>\n",
       "      <th>registry_guess_status</th>\n",
       "      <th>valid_seq</th>\n",
       "      <th>sample_status_local</th>\n",
       "      <th>sample_vga_id</th>\n",
       "      <th>sample_status_remote</th>\n",
       "      <th>pango</th>\n",
       "      <th>nextclade</th>\n",
       "      <th>sequence_conclusion_local</th>\n",
       "      <th>sequence_vga_id</th>\n",
       "      <th>sequence_conclusion_remote</th>\n",
       "    </tr>\n",
       "  </thead>\n",
       "  <tbody>\n",
       "    <tr>\n",
       "      <th>93</th>\n",
       "      <td>barcode94_MN908947.3</td>\n",
       "      <td>100033</td>\n",
       "      <td>393319</td>\n",
       "      <td>Рязанская область</td>\n",
       "      <td>ryaz</td>\n",
       "      <td>4517</td>\n",
       "      <td>ФБУЗ ЦГиЭ в Рязанской области</td>\n",
       "      <td>ryaz23SM75130</td>\n",
       "      <td>393319</td>\n",
       "      <td>OK</td>\n",
       "      <td></td>\n",
       "      <td></td>\n",
       "      <td></td>\n",
       "      <td></td>\n",
       "      <td></td>\n",
       "      <td></td>\n",
       "      <td></td>\n",
       "      <td></td>\n",
       "      <td></td>\n",
       "    </tr>\n",
       "    <tr>\n",
       "      <th>94</th>\n",
       "      <td>barcode95_MN908947.3</td>\n",
       "      <td>100034</td>\n",
       "      <td>374619</td>\n",
       "      <td>Рязанская область</td>\n",
       "      <td>ryaz</td>\n",
       "      <td>4517</td>\n",
       "      <td>ФБУЗ ЦГиЭ в Рязанской области</td>\n",
       "      <td>ryaz23SM74866</td>\n",
       "      <td>374619</td>\n",
       "      <td>OK</td>\n",
       "      <td></td>\n",
       "      <td></td>\n",
       "      <td></td>\n",
       "      <td></td>\n",
       "      <td></td>\n",
       "      <td></td>\n",
       "      <td></td>\n",
       "      <td></td>\n",
       "      <td></td>\n",
       "    </tr>\n",
       "    <tr>\n",
       "      <th>95</th>\n",
       "      <td>barcode96_MN908947.3</td>\n",
       "      <td>100035</td>\n",
       "      <td>359319</td>\n",
       "      <td>Рязанская область</td>\n",
       "      <td>ryaz</td>\n",
       "      <td></td>\n",
       "      <td></td>\n",
       "      <td></td>\n",
       "      <td></td>\n",
       "      <td>NO MATHCES</td>\n",
       "      <td></td>\n",
       "      <td></td>\n",
       "      <td></td>\n",
       "      <td></td>\n",
       "      <td></td>\n",
       "      <td></td>\n",
       "      <td></td>\n",
       "      <td></td>\n",
       "      <td></td>\n",
       "    </tr>\n",
       "  </tbody>\n",
       "</table>\n",
       "</div>"
      ],
      "text/plain": [
       "                 barcode litech_barcode litech_sample_name      litech_region  \\\n",
       "93  barcode94_MN908947.3         100033             393319  Рязанская область   \n",
       "94  barcode95_MN908947.3         100034             374619  Рязанская область   \n",
       "95  barcode96_MN908947.3         100035             359319  Рязанская область   \n",
       "\n",
       "   region_short_name registry_id                    depart_name  \\\n",
       "93              ryaz        4517  ФБУЗ ЦГиЭ в Рязанской области   \n",
       "94              ryaz        4517  ФБУЗ ЦГиЭ в Рязанской области   \n",
       "95              ryaz                                              \n",
       "\n",
       "    sample_number sample_name_value registry_guess_status valid_seq  \\\n",
       "93  ryaz23SM75130            393319                    OK             \n",
       "94  ryaz23SM74866            374619                    OK             \n",
       "95                                             NO MATHCES             \n",
       "\n",
       "   sample_status_local sample_vga_id sample_status_remote pango nextclade  \\\n",
       "93                                                                          \n",
       "94                                                                          \n",
       "95                                                                          \n",
       "\n",
       "   sequence_conclusion_local sequence_vga_id sequence_conclusion_remote  \n",
       "93                                                                       \n",
       "94                                                                       \n",
       "95                                                                       "
      ]
     },
     "execution_count": 17,
     "metadata": {},
     "output_type": "execute_result"
    }
   ],
   "source": [
    "stage_4['payload'].tail(3)  # тут конец таблицы, так как иначе видно личные данные образца"
   ]
  },
  {
   "cell_type": "code",
   "execution_count": 18,
   "id": "7799b6c7",
   "metadata": {},
   "outputs": [],
   "source": [
    "optional_stage = cmc.save_concatenated_table(stage_4['payload'],\n",
    "                                                       \"test_data/test_registry_pipe/result.csv\",\n",
    "                                                       separator=\"\\t\")"
   ]
  },
  {
   "cell_type": "code",
   "execution_count": 19,
   "id": "585d6f1d",
   "metadata": {},
   "outputs": [
    {
     "data": {
      "text/plain": [
       "True"
      ]
     },
     "execution_count": 19,
     "metadata": {},
     "output_type": "execute_result"
    }
   ],
   "source": [
    "optional_stage['success']"
   ]
  },
  {
   "cell_type": "code",
   "execution_count": 20,
   "id": "862631cf",
   "metadata": {},
   "outputs": [
    {
     "data": {
      "text/plain": [
       "'Успешно сохранено в `test_data/test_registry_pipe/result.csv`'"
      ]
     },
     "execution_count": 20,
     "metadata": {},
     "output_type": "execute_result"
    }
   ],
   "source": [
    "optional_stage['payload']"
   ]
  },
  {
   "cell_type": "markdown",
   "id": "c9da0cb3",
   "metadata": {},
   "source": [
    "Аналогично для сохранения есть возможность обработки ошибок. "
   ]
  },
  {
   "cell_type": "code",
   "execution_count": 21,
   "id": "c00638ca",
   "metadata": {},
   "outputs": [
    {
     "data": {
      "text/plain": [
       "\"'str' object has no attribute 'to_csv'\""
      ]
     },
     "execution_count": 21,
     "metadata": {},
     "output_type": "execute_result"
    }
   ],
   "source": [
    "cmc.save_concatenated_table(\"nothing\", \"test_data/test_registry_pipe/result.csv\", separator=\"\\t\")['payload']"
   ]
  },
  {
   "cell_type": "code",
   "execution_count": 22,
   "id": "38215e5c",
   "metadata": {},
   "outputs": [
    {
     "data": {
      "text/html": [
       "<div>\n",
       "<style scoped>\n",
       "    .dataframe tbody tr th:only-of-type {\n",
       "        vertical-align: middle;\n",
       "    }\n",
       "\n",
       "    .dataframe tbody tr th {\n",
       "        vertical-align: top;\n",
       "    }\n",
       "\n",
       "    .dataframe thead th {\n",
       "        text-align: right;\n",
       "    }\n",
       "</style>\n",
       "<table border=\"1\" class=\"dataframe\">\n",
       "  <thead>\n",
       "    <tr style=\"text-align: right;\">\n",
       "      <th></th>\n",
       "      <th>barcode</th>\n",
       "      <th>litech_barcode</th>\n",
       "      <th>litech_sample_name</th>\n",
       "      <th>litech_region</th>\n",
       "      <th>region_short_name</th>\n",
       "      <th>registry_id</th>\n",
       "      <th>depart_name</th>\n",
       "      <th>sample_number</th>\n",
       "      <th>sample_name_value</th>\n",
       "      <th>registry_guess_status</th>\n",
       "      <th>valid_seq</th>\n",
       "      <th>sample_status_local</th>\n",
       "      <th>sample_vga_id</th>\n",
       "      <th>sample_status_remote</th>\n",
       "      <th>pango</th>\n",
       "      <th>nextclade</th>\n",
       "      <th>sequence_conclusion_local</th>\n",
       "      <th>sequence_vga_id</th>\n",
       "      <th>sequence_conclusion_remote</th>\n",
       "    </tr>\n",
       "  </thead>\n",
       "  <tbody>\n",
       "    <tr>\n",
       "      <th>93</th>\n",
       "      <td>barcode94_MN908947.3</td>\n",
       "      <td>100033</td>\n",
       "      <td>393319</td>\n",
       "      <td>Рязанская область</td>\n",
       "      <td>ryaz</td>\n",
       "      <td>4517</td>\n",
       "      <td>ФБУЗ ЦГиЭ в Рязанской области</td>\n",
       "      <td>ryaz23SM75130</td>\n",
       "      <td>393319</td>\n",
       "      <td>OK</td>\n",
       "      <td></td>\n",
       "      <td></td>\n",
       "      <td></td>\n",
       "      <td></td>\n",
       "      <td></td>\n",
       "      <td></td>\n",
       "      <td></td>\n",
       "      <td></td>\n",
       "      <td></td>\n",
       "    </tr>\n",
       "    <tr>\n",
       "      <th>94</th>\n",
       "      <td>barcode95_MN908947.3</td>\n",
       "      <td>100034</td>\n",
       "      <td>374619</td>\n",
       "      <td>Рязанская область</td>\n",
       "      <td>ryaz</td>\n",
       "      <td>4517</td>\n",
       "      <td>ФБУЗ ЦГиЭ в Рязанской области</td>\n",
       "      <td>ryaz23SM74866</td>\n",
       "      <td>374619</td>\n",
       "      <td>OK</td>\n",
       "      <td></td>\n",
       "      <td></td>\n",
       "      <td></td>\n",
       "      <td></td>\n",
       "      <td></td>\n",
       "      <td></td>\n",
       "      <td></td>\n",
       "      <td></td>\n",
       "      <td></td>\n",
       "    </tr>\n",
       "    <tr>\n",
       "      <th>95</th>\n",
       "      <td>barcode96_MN908947.3</td>\n",
       "      <td>100035</td>\n",
       "      <td>359319</td>\n",
       "      <td>Рязанская область</td>\n",
       "      <td>ryaz</td>\n",
       "      <td></td>\n",
       "      <td></td>\n",
       "      <td></td>\n",
       "      <td></td>\n",
       "      <td>NO MATHCES</td>\n",
       "      <td></td>\n",
       "      <td></td>\n",
       "      <td></td>\n",
       "      <td></td>\n",
       "      <td></td>\n",
       "      <td></td>\n",
       "      <td></td>\n",
       "      <td></td>\n",
       "      <td></td>\n",
       "    </tr>\n",
       "  </tbody>\n",
       "</table>\n",
       "</div>"
      ],
      "text/plain": [
       "                 barcode litech_barcode litech_sample_name      litech_region  \\\n",
       "93  barcode94_MN908947.3         100033             393319  Рязанская область   \n",
       "94  barcode95_MN908947.3         100034             374619  Рязанская область   \n",
       "95  barcode96_MN908947.3         100035             359319  Рязанская область   \n",
       "\n",
       "   region_short_name registry_id                    depart_name  \\\n",
       "93              ryaz        4517  ФБУЗ ЦГиЭ в Рязанской области   \n",
       "94              ryaz        4517  ФБУЗ ЦГиЭ в Рязанской области   \n",
       "95              ryaz                                              \n",
       "\n",
       "    sample_number sample_name_value registry_guess_status valid_seq  \\\n",
       "93  ryaz23SM75130            393319                    OK             \n",
       "94  ryaz23SM74866            374619                    OK             \n",
       "95                                             NO MATHCES             \n",
       "\n",
       "   sample_status_local sample_vga_id sample_status_remote pango nextclade  \\\n",
       "93                                                                          \n",
       "94                                                                          \n",
       "95                                                                          \n",
       "\n",
       "   sequence_conclusion_local sequence_vga_id sequence_conclusion_remote  \n",
       "93                                                                       \n",
       "94                                                                       \n",
       "95                                                                       "
      ]
     },
     "execution_count": 22,
     "metadata": {},
     "output_type": "execute_result"
    }
   ],
   "source": [
    "import pandas as pd\n",
    "df = pd.read_csv(\"test_data/test_registry_pipe/result.csv\", sep=\"\\t\", dtype=str, keep_default_na=False)\n",
    "df.tail(3)"
   ]
  },
  {
   "cell_type": "code",
   "execution_count": null,
   "id": "3e4131c2",
   "metadata": {},
   "outputs": [],
   "source": []
  },
  {
   "cell_type": "code",
   "execution_count": null,
   "id": "7f10e5d0",
   "metadata": {},
   "outputs": [],
   "source": []
  }
 ],
 "metadata": {
  "kernelspec": {
   "display_name": "Python 3",
   "language": "python",
   "name": "python3"
  },
  "language_info": {
   "codemirror_mode": {
    "name": "ipython",
    "version": 3
   },
   "file_extension": ".py",
   "mimetype": "text/x-python",
   "name": "python",
   "nbconvert_exporter": "python",
   "pygments_lexer": "ipython3",
   "version": "3.8.8"
  }
 },
 "nbformat": 4,
 "nbformat_minor": 5
}
