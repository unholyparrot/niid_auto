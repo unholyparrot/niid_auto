{
 "cells": [
  {
   "cell_type": "code",
   "execution_count": 1,
   "id": "9968dbaa",
   "metadata": {},
   "outputs": [],
   "source": [
    "from carmon import registry_pipe"
   ]
  },
  {
   "cell_type": "markdown",
   "id": "8807ac13",
   "metadata": {},
   "source": [
    "Взглянем на ошибочные отработки"
   ]
  },
  {
   "cell_type": "code",
   "execution_count": 2,
   "id": "c7f46100",
   "metadata": {},
   "outputs": [],
   "source": [
    "error_stage = registry_pipe.read_input_tables(\"test_data\", \n",
    "                                              \"test_data\",\n",
    "                                              separator=\"\\t\")"
   ]
  },
  {
   "cell_type": "code",
   "execution_count": 3,
   "id": "ffce8a6f",
   "metadata": {},
   "outputs": [
    {
     "data": {
      "text/plain": [
       "{'success': False, 'payload': \"[Errno 13] Permission denied: 'test_data'\"}"
      ]
     },
     "execution_count": 3,
     "metadata": {},
     "output_type": "execute_result"
    }
   ],
   "source": [
    "error_stage"
   ]
  },
  {
   "cell_type": "code",
   "execution_count": 4,
   "id": "c90c9da8",
   "metadata": {},
   "outputs": [
    {
     "data": {
      "text/plain": [
       "\"[Errno 13] Permission denied: 'test_data'\""
      ]
     },
     "execution_count": 4,
     "metadata": {},
     "output_type": "execute_result"
    }
   ],
   "source": [
    "error_stage['payload']"
   ]
  },
  {
   "cell_type": "code",
   "execution_count": 5,
   "id": "58d2f622",
   "metadata": {},
   "outputs": [],
   "source": [
    "error_stage = registry_pipe.read_input_tables(\"test_data/tab1.csv\", \n",
    "                                              \"test_data/tab2.csv\",\n",
    "                                              separator=\"\\t\")"
   ]
  },
  {
   "cell_type": "code",
   "execution_count": 6,
   "id": "9dfd3f31",
   "metadata": {},
   "outputs": [
    {
     "data": {
      "text/plain": [
       "{'success': False,\n",
       " 'payload': \"[Errno 2] No such file or directory: 'test_data/tab1.csv'\"}"
      ]
     },
     "execution_count": 6,
     "metadata": {},
     "output_type": "execute_result"
    }
   ],
   "source": [
    "error_stage"
   ]
  },
  {
   "cell_type": "markdown",
   "id": "959816ca",
   "metadata": {},
   "source": [
    "Теперь проверим корректный запуск, передадим пути к файлам с таблицами"
   ]
  },
  {
   "cell_type": "code",
   "execution_count": 7,
   "id": "a992d265",
   "metadata": {},
   "outputs": [],
   "source": [
    "stage_1 = registry_pipe.read_input_tables(\"test_data/test_registry_pipe/FROM_2.txt\", \n",
    "                                          \"test_data/test_registry_pipe/FROM_3.txt\",\n",
    "                                          separator=\"\\t\")"
   ]
  },
  {
   "cell_type": "markdown",
   "id": "4e607095",
   "metadata": {},
   "source": [
    "Проверим успех операции"
   ]
  },
  {
   "cell_type": "code",
   "execution_count": 8,
   "id": "0339972a",
   "metadata": {},
   "outputs": [
    {
     "data": {
      "text/plain": [
       "True"
      ]
     },
     "execution_count": 8,
     "metadata": {},
     "output_type": "execute_result"
    }
   ],
   "source": [
    "stage_1['success']"
   ]
  },
  {
   "cell_type": "code",
   "execution_count": 9,
   "id": "d3d9751f",
   "metadata": {},
   "outputs": [
    {
     "data": {
      "text/html": [
       "<div>\n",
       "<style scoped>\n",
       "    .dataframe tbody tr th:only-of-type {\n",
       "        vertical-align: middle;\n",
       "    }\n",
       "\n",
       "    .dataframe tbody tr th {\n",
       "        vertical-align: top;\n",
       "    }\n",
       "\n",
       "    .dataframe thead th {\n",
       "        text-align: right;\n",
       "    }\n",
       "</style>\n",
       "<table border=\"1\" class=\"dataframe\">\n",
       "  <thead>\n",
       "    <tr style=\"text-align: right;\">\n",
       "      <th></th>\n",
       "      <th>litex_sk</th>\n",
       "      <th>litex_value</th>\n",
       "      <th>region</th>\n",
       "    </tr>\n",
       "  </thead>\n",
       "  <tbody>\n",
       "    <tr>\n",
       "      <th>64</th>\n",
       "      <td>90722</td>\n",
       "      <td>5793</td>\n",
       "      <td>Брянская область</td>\n",
       "    </tr>\n",
       "    <tr>\n",
       "      <th>65</th>\n",
       "      <td>90723</td>\n",
       "      <td>5701</td>\n",
       "      <td>Брянская область</td>\n",
       "    </tr>\n",
       "    <tr>\n",
       "      <th>67</th>\n",
       "      <td>90725</td>\n",
       "      <td>5610</td>\n",
       "      <td>Брянская область</td>\n",
       "    </tr>\n",
       "  </tbody>\n",
       "</table>\n",
       "</div>"
      ],
      "text/plain": [
       "   litex_sk litex_value            region\n",
       "64    90722        5793  Брянская область\n",
       "65    90723        5701  Брянская область\n",
       "67    90725        5610  Брянская область"
      ]
     },
     "execution_count": 9,
     "metadata": {},
     "output_type": "execute_result"
    }
   ],
   "source": [
    "df = stage_1['payload']\n",
    "df.head(3)"
   ]
  },
  {
   "cell_type": "markdown",
   "id": "5cde0509",
   "metadata": {},
   "source": [
    "Считываем таблицу со всеми реестрами"
   ]
  },
  {
   "cell_type": "code",
   "execution_count": 10,
   "id": "5fd628cd",
   "metadata": {},
   "outputs": [],
   "source": [
    "stage_2 = registry_pipe.read_all_registry_info(\"test_data/test_registry_pipe/registry.csv\")"
   ]
  },
  {
   "cell_type": "code",
   "execution_count": 11,
   "id": "8c2a7691",
   "metadata": {},
   "outputs": [
    {
     "data": {
      "text/plain": [
       "True"
      ]
     },
     "execution_count": 11,
     "metadata": {},
     "output_type": "execute_result"
    }
   ],
   "source": [
    "stage_2['success']"
   ]
  },
  {
   "cell_type": "code",
   "execution_count": 12,
   "id": "662c7309",
   "metadata": {},
   "outputs": [
    {
     "data": {
      "text/html": [
       "<div>\n",
       "<style scoped>\n",
       "    .dataframe tbody tr th:only-of-type {\n",
       "        vertical-align: middle;\n",
       "    }\n",
       "\n",
       "    .dataframe tbody tr th {\n",
       "        vertical-align: top;\n",
       "    }\n",
       "\n",
       "    .dataframe thead th {\n",
       "        text-align: right;\n",
       "    }\n",
       "</style>\n",
       "<table border=\"1\" class=\"dataframe\">\n",
       "  <thead>\n",
       "    <tr style=\"text-align: right;\">\n",
       "      <th></th>\n",
       "      <th>registry_id</th>\n",
       "      <th>depart_name</th>\n",
       "      <th>sample_number</th>\n",
       "      <th>value</th>\n",
       "    </tr>\n",
       "  </thead>\n",
       "  <tbody>\n",
       "    <tr>\n",
       "      <th>0</th>\n",
       "      <td>5263</td>\n",
       "      <td>ФБУЗ ЦГиЭ в Ярославской области</td>\n",
       "      <td>yaro19SM110383</td>\n",
       "      <td>3137</td>\n",
       "    </tr>\n",
       "    <tr>\n",
       "      <th>1</th>\n",
       "      <td>5263</td>\n",
       "      <td>ФБУЗ ЦГиЭ в Ярославской области</td>\n",
       "      <td>yaro19SM110415</td>\n",
       "      <td>3136</td>\n",
       "    </tr>\n",
       "    <tr>\n",
       "      <th>2</th>\n",
       "      <td>5263</td>\n",
       "      <td>ФБУЗ ЦГиЭ в Ярославской области</td>\n",
       "      <td>yaro19SM110438</td>\n",
       "      <td>3150</td>\n",
       "    </tr>\n",
       "  </tbody>\n",
       "</table>\n",
       "</div>"
      ],
      "text/plain": [
       "  registry_id                      depart_name   sample_number value\n",
       "0        5263  ФБУЗ ЦГиЭ в Ярославской области  yaro19SM110383  3137\n",
       "1        5263  ФБУЗ ЦГиЭ в Ярославской области  yaro19SM110415  3136\n",
       "2        5263  ФБУЗ ЦГиЭ в Ярославской области  yaro19SM110438  3150"
      ]
     },
     "execution_count": 12,
     "metadata": {},
     "output_type": "execute_result"
    }
   ],
   "source": [
    "ref = stage_2['payload']\n",
    "ref.head(3)"
   ]
  },
  {
   "cell_type": "markdown",
   "id": "cd693c26",
   "metadata": {},
   "source": [
    "Производим подготовительные манипуляции с таблицами"
   ]
  },
  {
   "cell_type": "code",
   "execution_count": 13,
   "id": "fe482fc8",
   "metadata": {},
   "outputs": [],
   "source": [
    "stage_3 = registry_pipe.append_desired_columns(df)"
   ]
  },
  {
   "cell_type": "code",
   "execution_count": 14,
   "id": "6df8ca49",
   "metadata": {},
   "outputs": [
    {
     "data": {
      "text/plain": [
       "True"
      ]
     },
     "execution_count": 14,
     "metadata": {},
     "output_type": "execute_result"
    }
   ],
   "source": [
    "stage_3['success']"
   ]
  },
  {
   "cell_type": "code",
   "execution_count": 15,
   "id": "dc07e3b1",
   "metadata": {},
   "outputs": [
    {
     "data": {
      "text/html": [
       "<div>\n",
       "<style scoped>\n",
       "    .dataframe tbody tr th:only-of-type {\n",
       "        vertical-align: middle;\n",
       "    }\n",
       "\n",
       "    .dataframe tbody tr th {\n",
       "        vertical-align: top;\n",
       "    }\n",
       "\n",
       "    .dataframe thead th {\n",
       "        text-align: right;\n",
       "    }\n",
       "</style>\n",
       "<table border=\"1\" class=\"dataframe\">\n",
       "  <thead>\n",
       "    <tr style=\"text-align: right;\">\n",
       "      <th></th>\n",
       "      <th>litex_sk</th>\n",
       "      <th>litex_value</th>\n",
       "      <th>region</th>\n",
       "      <th>region_code</th>\n",
       "      <th>registry_id</th>\n",
       "      <th>depart_name</th>\n",
       "      <th>sample_number</th>\n",
       "      <th>value</th>\n",
       "      <th>status</th>\n",
       "    </tr>\n",
       "  </thead>\n",
       "  <tbody>\n",
       "    <tr>\n",
       "      <th>64</th>\n",
       "      <td>90722</td>\n",
       "      <td>5793</td>\n",
       "      <td>Брянская область</td>\n",
       "      <td>brya</td>\n",
       "      <td></td>\n",
       "      <td></td>\n",
       "      <td></td>\n",
       "      <td></td>\n",
       "      <td></td>\n",
       "    </tr>\n",
       "    <tr>\n",
       "      <th>65</th>\n",
       "      <td>90723</td>\n",
       "      <td>5701</td>\n",
       "      <td>Брянская область</td>\n",
       "      <td>brya</td>\n",
       "      <td></td>\n",
       "      <td></td>\n",
       "      <td></td>\n",
       "      <td></td>\n",
       "      <td></td>\n",
       "    </tr>\n",
       "    <tr>\n",
       "      <th>67</th>\n",
       "      <td>90725</td>\n",
       "      <td>5610</td>\n",
       "      <td>Брянская область</td>\n",
       "      <td>brya</td>\n",
       "      <td></td>\n",
       "      <td></td>\n",
       "      <td></td>\n",
       "      <td></td>\n",
       "      <td></td>\n",
       "    </tr>\n",
       "  </tbody>\n",
       "</table>\n",
       "</div>"
      ],
      "text/plain": [
       "   litex_sk litex_value            region region_code registry_id depart_name  \\\n",
       "64    90722        5793  Брянская область        brya                           \n",
       "65    90723        5701  Брянская область        brya                           \n",
       "67    90725        5610  Брянская область        brya                           \n",
       "\n",
       "   sample_number value status  \n",
       "64                             \n",
       "65                             \n",
       "67                             "
      ]
     },
     "execution_count": 15,
     "metadata": {},
     "output_type": "execute_result"
    }
   ],
   "source": [
    "df = stage_3['payload']\n",
    "df.head(3)"
   ]
  },
  {
   "cell_type": "markdown",
   "id": "e5bd9309",
   "metadata": {},
   "source": [
    "Производим поиск образцов в реестре"
   ]
  },
  {
   "cell_type": "code",
   "execution_count": 16,
   "id": "fe0fabbd",
   "metadata": {},
   "outputs": [],
   "source": [
    "stage_4 = registry_pipe.process_table_concatenation(df, ref)"
   ]
  },
  {
   "cell_type": "code",
   "execution_count": 17,
   "id": "34269255",
   "metadata": {},
   "outputs": [
    {
     "data": {
      "text/plain": [
       "True"
      ]
     },
     "execution_count": 17,
     "metadata": {},
     "output_type": "execute_result"
    }
   ],
   "source": [
    "stage_4['success']"
   ]
  },
  {
   "cell_type": "code",
   "execution_count": 18,
   "id": "15ebeaad",
   "metadata": {},
   "outputs": [
    {
     "data": {
      "text/html": [
       "<div>\n",
       "<style scoped>\n",
       "    .dataframe tbody tr th:only-of-type {\n",
       "        vertical-align: middle;\n",
       "    }\n",
       "\n",
       "    .dataframe tbody tr th {\n",
       "        vertical-align: top;\n",
       "    }\n",
       "\n",
       "    .dataframe thead th {\n",
       "        text-align: right;\n",
       "    }\n",
       "</style>\n",
       "<table border=\"1\" class=\"dataframe\">\n",
       "  <thead>\n",
       "    <tr style=\"text-align: right;\">\n",
       "      <th></th>\n",
       "      <th>litex_sk</th>\n",
       "      <th>litex_value</th>\n",
       "      <th>region</th>\n",
       "      <th>region_code</th>\n",
       "      <th>registry_id</th>\n",
       "      <th>depart_name</th>\n",
       "      <th>sample_number</th>\n",
       "      <th>value</th>\n",
       "      <th>status</th>\n",
       "    </tr>\n",
       "  </thead>\n",
       "  <tbody>\n",
       "    <tr>\n",
       "      <th>174</th>\n",
       "      <td>100033</td>\n",
       "      <td>393319</td>\n",
       "      <td>Рязанская область</td>\n",
       "      <td>ryaz</td>\n",
       "      <td>4517</td>\n",
       "      <td>ФБУЗ ЦГиЭ в Рязанской области</td>\n",
       "      <td>ryaz23SM75130</td>\n",
       "      <td>393319</td>\n",
       "      <td>OK</td>\n",
       "    </tr>\n",
       "    <tr>\n",
       "      <th>175</th>\n",
       "      <td>100034</td>\n",
       "      <td>374619</td>\n",
       "      <td>Рязанская область</td>\n",
       "      <td>ryaz</td>\n",
       "      <td>4517</td>\n",
       "      <td>ФБУЗ ЦГиЭ в Рязанской области</td>\n",
       "      <td>ryaz23SM74866</td>\n",
       "      <td>374619</td>\n",
       "      <td>OK</td>\n",
       "    </tr>\n",
       "    <tr>\n",
       "      <th>176</th>\n",
       "      <td>100035</td>\n",
       "      <td>359319</td>\n",
       "      <td>Рязанская область</td>\n",
       "      <td>ryaz</td>\n",
       "      <td></td>\n",
       "      <td></td>\n",
       "      <td></td>\n",
       "      <td></td>\n",
       "      <td>NO MATHCES</td>\n",
       "    </tr>\n",
       "  </tbody>\n",
       "</table>\n",
       "</div>"
      ],
      "text/plain": [
       "    litex_sk litex_value             region region_code registry_id  \\\n",
       "174   100033      393319  Рязанская область        ryaz        4517   \n",
       "175   100034      374619  Рязанская область        ryaz        4517   \n",
       "176   100035      359319  Рязанская область        ryaz               \n",
       "\n",
       "                       depart_name  sample_number   value      status  \n",
       "174  ФБУЗ ЦГиЭ в Рязанской области  ryaz23SM75130  393319          OK  \n",
       "175  ФБУЗ ЦГиЭ в Рязанской области  ryaz23SM74866  374619          OK  \n",
       "176                                                        NO MATHCES  "
      ]
     },
     "execution_count": 18,
     "metadata": {},
     "output_type": "execute_result"
    }
   ],
   "source": [
    "stage_4['payload'].tail(3)  # тут конец таблицы, так как иначе видно личные данные образца"
   ]
  },
  {
   "cell_type": "code",
   "execution_count": 19,
   "id": "7799b6c7",
   "metadata": {},
   "outputs": [],
   "source": [
    "optional_stage = registry_pipe.save_concatenated_table(stage_4['payload'],\n",
    "                                                       \"test_data/test_registry_pipe/result.csv\",\n",
    "                                                       separator=\"\\t\")"
   ]
  },
  {
   "cell_type": "code",
   "execution_count": 20,
   "id": "585d6f1d",
   "metadata": {},
   "outputs": [
    {
     "data": {
      "text/plain": [
       "True"
      ]
     },
     "execution_count": 20,
     "metadata": {},
     "output_type": "execute_result"
    }
   ],
   "source": [
    "optional_stage['success']"
   ]
  },
  {
   "cell_type": "code",
   "execution_count": 21,
   "id": "862631cf",
   "metadata": {},
   "outputs": [
    {
     "data": {
      "text/plain": [
       "'Успешно сохранено в `test_data/test_registry_pipe/result.csv`'"
      ]
     },
     "execution_count": 21,
     "metadata": {},
     "output_type": "execute_result"
    }
   ],
   "source": [
    "optional_stage['payload']"
   ]
  },
  {
   "cell_type": "markdown",
   "id": "c9da0cb3",
   "metadata": {},
   "source": [
    "Аналогично для сохранения есть возможность обработки ошибок. "
   ]
  },
  {
   "cell_type": "code",
   "execution_count": 22,
   "id": "c00638ca",
   "metadata": {},
   "outputs": [
    {
     "data": {
      "text/plain": [
       "\"'str' object has no attribute 'to_csv'\""
      ]
     },
     "execution_count": 22,
     "metadata": {},
     "output_type": "execute_result"
    }
   ],
   "source": [
    "registry_pipe.save_concatenated_table(\"nothing\", \"test_data/test_registry_pipe/result.csv\", separator=\"\\t\")['payload']"
   ]
  },
  {
   "cell_type": "code",
   "execution_count": null,
   "id": "38215e5c",
   "metadata": {},
   "outputs": [],
   "source": []
  },
  {
   "cell_type": "code",
   "execution_count": null,
   "id": "3e4131c2",
   "metadata": {},
   "outputs": [],
   "source": []
  },
  {
   "cell_type": "code",
   "execution_count": null,
   "id": "9d09507a",
   "metadata": {},
   "outputs": [],
   "source": []
  }
 ],
 "metadata": {
  "kernelspec": {
   "display_name": "Python 3",
   "language": "python",
   "name": "python3"
  },
  "language_info": {
   "codemirror_mode": {
    "name": "ipython",
    "version": 3
   },
   "file_extension": ".py",
   "mimetype": "text/x-python",
   "name": "python",
   "nbconvert_exporter": "python",
   "pygments_lexer": "ipython3",
   "version": "3.8.8"
  }
 },
 "nbformat": 4,
 "nbformat_minor": 5
}
